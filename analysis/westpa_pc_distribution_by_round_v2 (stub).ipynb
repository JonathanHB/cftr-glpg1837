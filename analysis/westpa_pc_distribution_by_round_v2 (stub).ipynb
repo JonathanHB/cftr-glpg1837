{
 "cells": [
  {
   "cell_type": "code",
   "execution_count": null,
   "id": "426f3eff-bef0-4a0e-91a2-65263d9afa53",
   "metadata": {},
   "outputs": [],
   "source": [
    "import numpy as np\n",
    "import h5py\n",
    "import matplotlib.pyplot as plt\n",
    "import matplotlib as mpl\n",
    "\n",
    "import westpa\n",
    "from westpa.analysis import Run"
   ]
  },
  {
   "cell_type": "code",
   "execution_count": null,
   "id": "74c59e07-710a-42e8-b1fd-0a96f9171cfd",
   "metadata": {},
   "outputs": [],
   "source": [
    "#this barely needs to be a method but having the .h5 stuff compartmentalized is nice\n",
    "def load_h5_pcs(h5path, miniter, maxiter):\n",
    "    \n",
    "    run = Run.open(h5path)\n",
    "\n",
    "    #set maximum iteration automatically\n",
    "    if maxiter == -1:\n",
    "        maxiter = run.num_iterations\n",
    "\n",
    "    pcs = [iteration.pcoords for iteration in run if (iteration.number >= miniter and iteration.number < maxiter)]\n",
    "\n",
    "    return pcs"
   ]
  },
  {
   "cell_type": "code",
   "execution_count": null,
   "id": "0d923eca-64a9-45b2-965f-b47a49acb35f",
   "metadata": {},
   "outputs": [],
   "source": [
    "path_h5date = [\n",
    "    [\"/home/jonathan/Documents/grabelab/cftr/chloe-data/wstp_cftr_1_degrabo\", \"-051325\", 1350, 1850],\n",
    "    [\"/home/jonathan/Documents/grabelab/cftr/chloe-data/wstp_cftr_2_wynton\",  \"-051425\", 500, 1000],\n",
    "    [\"/home/jonathan/Documents/grabelab/cftr/chloe-data/wstp_lip_glpg_1\",     \"-040925\", 1500, 2000],\n",
    "    [\"/home/jonathan/Documents/grabelab/cftr/chloe-data/wstp_lip_glpg_2\",     \"-040925\", 1500, 2000]]\n",
    "\n",
    "for we_index in [-4,-3,-2,-1]:\n",
    "    #we_index = -4\n",
    "    \n",
    "    abspath = path_h5date[we_index][0]\n",
    "    date_time = path_h5date[we_index][1]\n",
    "    \n",
    "    miniter = path_h5date[we_index][2]\n",
    "    maxiter = path_h5date[we_index][3]\n",
    "\n",
    "    pcs = load_h5_pcs("
   ]
  }
 ],
 "metadata": {
  "kernelspec": {
   "display_name": "Python 3 (ipykernel)",
   "language": "python",
   "name": "python3"
  },
  "language_info": {
   "codemirror_mode": {
    "name": "ipython",
    "version": 3
   },
   "file_extension": ".py",
   "mimetype": "text/x-python",
   "name": "python",
   "nbconvert_exporter": "python",
   "pygments_lexer": "ipython3",
   "version": "3.11.10"
  }
 },
 "nbformat": 4,
 "nbformat_minor": 5
}
