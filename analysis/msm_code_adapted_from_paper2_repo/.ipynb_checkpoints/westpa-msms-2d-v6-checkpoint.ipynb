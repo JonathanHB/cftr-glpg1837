{
 "cells": [
  {
   "cell_type": "code",
   "execution_count": 1,
   "id": "1f7fa0e3-141f-4544-87a3-e254510529af",
   "metadata": {},
   "outputs": [],
   "source": [
    "import numpy as np\n",
    "\n",
    "import westpa\n",
    "from westpa.analysis import Run\n",
    "\n",
    "import time\n",
    "\n",
    "import pyemma\n",
    "from decimal import Decimal\n",
    "import matplotlib.pyplot as plt\n",
    "\n",
    "import westpa_h5_reader_msm_functions as hmf\n",
    "\n",
    "import weighted_msms"
   ]
  },
  {
   "cell_type": "code",
   "execution_count": 2,
   "id": "da5dd7fb-d148-4f5d-8ed7-a7d8114772ac",
   "metadata": {},
   "outputs": [],
   "source": [
    "#used as an adapter between my MSM construction and pyemma's\n",
    "class msm():\n",
    "    def __init__(self, eqp, sio):\n",
    "        self.stationary_distribution = eqp\n",
    "        self.active_set = sio"
   ]
  },
  {
   "cell_type": "code",
   "execution_count": 10,
   "id": "554a2dde-9546-4906-a62b-864015025352",
   "metadata": {},
   "outputs": [
    {
     "name": "stdout",
     "output_type": "stream",
     "text": [
      "loaded data for 100 WE rounds in 14.662224054336548 seconds\n",
      "identified 19536 transitions in 0.001287221908569336 seconds\n",
      "eigenvector converged to within 10^-12 after 0 rounds\n",
      "built MSM in 0.07131767272949219 seconds\n"
     ]
    },
    {
     "data": {
      "text/plain": [
       "<matplotlib.legend.Legend at 0x74f36bdb5a90>"
      ]
     },
     "execution_count": 10,
     "metadata": {},
     "output_type": "execute_result"
    },
    {
     "data": {
      "image/png": "[encoded data removed]",
      "text/plain": [
       "<Figure size 640x480 with 1 Axes>"
      ]
     },
     "metadata": {},
     "output_type": "display_data"
    }
   ],
   "source": [
    "miniter = 1900\n",
    "maxiter = 2000\n",
    "rmax = maxiter\n",
    "\n",
    "cftr_west = \"/home/jonathan/Documents/grabelab/cftr/chloe-data\"\n",
    "cftr_refpc = \"/home/jonathan/Documents/grabelab/cftr/refeaturization\"\n",
    "\n",
    "#can we make this read in the bounds from a west.cfg file?\n",
    "h5paths_names = [ [f\"{cftr_west}/wstp_cftr_1_degrabo/west-040925.h5\", f\"{cftr_refpc}/nonlip_glpg_1\", \"pyrazole-1\",  \"blue\",   [0, 0.25, 0.5, 0.75, 1, 1.25, 1.5, 1.75, 2, 2.25, 2.5, 2.75, 3, 3.25, 3.5, 3.75, 4, 4.25, 4.5, 4.75, 5, 6, 7, 8, 9, 10, 11, 12, 15, 16, 17, 18, 19, 20, 21, 22, 23, 24, 25, 25.5, 26, 26.5, 27,28,29,30,32,34,36,38, 40, 50]],\n",
    "                  [f\"{cftr_west}/wstp_cftr_2_wynton/west-040925.h5\",  f\"{cftr_refpc}/nonlip_glpg_2\", \"pyrazole-2\",  \"cyan\",   [0, 0.25, 0.5, 0.75, 1, 1.25, 1.5, 1.75, 2, 2.25, 2.5, 2.75, 3, 3.25, 3.5, 3.75, 4, 4.25, 4.5, 4.75, 5, 6, 7, 8, 9, 10, 11, 12, 15, 16, 17, 18, 19, 20, 21, 22, 23, 24, 25, 25.5, 26, 26.5, 27,28,29,30,32,34,36,38, 40, 50]],\n",
    "                  [f\"{cftr_west}/wstp_lip_glpg_1/west-040925.h5\",     f\"{cftr_refpc}/lip_glpg_1\",    \"undecanol-1\", \"red\",    [0, 1, 3, 5, 7, 9, 10, 11, 12, 15, 16, 17, 18, 19, 19.5, 20, 20.5, 21, 21.5, 22, 22.5, 23, 24, 25, 25.5, 26, 26.5, 27,28,29,30,32,34,36,38, 40, 50]],\n",
    "                  [f\"{cftr_west}/wstp_lip_glpg_2/west-040925.h5\",     f\"{cftr_refpc}/lip_glpg_2\",    \"undecanol-2\", \"orange\", [0,1,1.3,1.5,1.7,2,2.2,2.4,2.5,2.75,3,3.25,3.5,3.75,4,4.25,4.5,4.75,5,5.25,5.5,5.75,6,6.5,7,8,9,10,11,12,13,14,15,16,17,18,19,20,21,22,23,24,25,25.5,26,26.5,27,28,29,30,32,34,36,38,40,41,50]]\n",
    "]\n",
    "\n",
    "uniform_we_bins = np.arange(0,50,0.2)\n",
    "\n",
    "legend=[]\n",
    "\n",
    "for h5pn in h5paths_names:\n",
    "    h5path = h5pn[0]\n",
    "    binbounds = uniform_we_bins #h5pn[4]\n",
    "    \n",
    "    #h5path = \"/home/jonathan/Documents/grabelab/aac1-ucp1/ucp1/trajectories/we65/west-050625-1407.h5\"\n",
    "    #\"/home/jonathan/Documents/grabelab/aac1-ucp1/ucp1/trajectories/we28d9/west-072924-1411.h5\"\n",
    "    \n",
    "    use_pyemma=False\n",
    "    weighted=True\n",
    "    \n",
    "    #binning along continuous PC\n",
    "    \n",
    "    pclims = [binbounds[0], binbounds[-1]]\n",
    "    nb = len(binbounds)+1\n",
    "    \n",
    "    #discrete PC\n",
    "    n_discrete_pc_vals = 1\n",
    "    \n",
    "    #bound state edge\n",
    "    threshold = 0\n",
    "    \n",
    "    #no figure is saved unless a name is specified\n",
    "    savefigname = \"\"\n",
    "    \n",
    "    t1 = time.time()\n",
    "    pcs, parent_pcs, weights, pc_init, maxiter = hmf.h5_2_pcs(h5path, miniter, maxiter)\n",
    "    #print(pcs)\n",
    "    #print(\"----------------------------------------------------------------------------------------------------------\")\n",
    "    #print(parent_pcs)\n",
    "    t2 = time.time()\n",
    "    print(f\"loaded data for {len(pcs)} WE rounds in {t2-t1} seconds\")\n",
    "    \n",
    "    #wire_populations = []\n",
    "\n",
    "    #for rmax in [maxiter]: #range(10,maxiter,50):\n",
    "    \n",
    "    t3 = time.time()\n",
    "    transitions = hmf.pcs_2_transitions(np.concatenate(pcs[:rmax]), np.concatenate(parent_pcs[:rmax]), binbounds, n_discrete_pc_vals)\n",
    "    t4 = time.time()\n",
    "    print(f\"identified {len(transitions)} transitions in {t4-t3} seconds\")\n",
    "\n",
    "    #print(transitions)\n",
    "    \n",
    "    t5 = time.time()\n",
    "    \n",
    "    if use_pyemma:\n",
    "        #consider using deeptime instead, or https://moldyn.github.io/msmhelper/ which is supposedly faster\n",
    "        pyem = pyemma.msm.bayesian_markov_model(list(transitions), lag=1, reversible=True)\n",
    "    elif weighted:\n",
    "        tpm, sio = weighted_msms.transitions_2_msm(transitions, np.concatenate(weights[:rmax]))\n",
    "        eqp = weighted_msms.tpm_2_eqprobs(tpm)\n",
    "        pyem = msm(eqp.transpose()[0], sio)\n",
    "    else:\n",
    "        tpm, sio = weighted_msms.transitions_2_msm(transitions, np.ones(transitions.shape[0]))\n",
    "        eqp = weighted_msms.tpm_2_eqprobs(tpm)\n",
    "        pyem = msm(eqp.transpose()[0], sio)\n",
    "    \n",
    "    t6 = time.time()\n",
    "    print(f\"built MSM in {t6-t5} seconds\")\n",
    "    \n",
    "    # plot MSM energies\n",
    "    q_below_total, bin_x_all, energies = hmf.plot_2d_pc_webins(pyem, nb, binbounds, pclims, n_discrete_pc_vals, pc_init[0], threshold, plottitle=savefigname)\n",
    "\n",
    "    plt.plot(bin_x_all[0], energies[0], color=h5pn[3])\n",
    "    legend.append(h5pn[2])\n",
    "    \n",
    "    # if rmax >= len(pcs):\n",
    "    #     break\n",
    "\n",
    "    #plt.plot(wire_populations)\n",
    "    break\n",
    "    \n",
    "plt.legend(legend)\n"
   ]
  },
  {
   "cell_type": "code",
   "execution_count": 4,
   "id": "122d57b7-af8d-4b1c-8f59-1f2499201bbb",
   "metadata": {},
   "outputs": [],
   "source": [
    "#print(len(pyem.stationary_distribution))\n",
    "#print(len(pyem.active_set))"
   ]
  },
  {
   "cell_type": "code",
   "execution_count": 5,
   "id": "8a1d70f0-aa02-4d8f-a96a-200e7676203c",
   "metadata": {},
   "outputs": [],
   "source": [
    "#len(pyem.stationary_distribution[0])"
   ]
  },
  {
   "cell_type": "code",
   "execution_count": 6,
   "id": "52d20a9d-bff9-4901-943b-3cff8a8801f9",
   "metadata": {},
   "outputs": [],
   "source": [
    "# import os\n",
    "# print(os.getcwd())"
   ]
  },
  {
   "cell_type": "raw",
   "id": "eb5e1772-1a81-4d88-a66a-94aa71f0e3f1",
   "metadata": {},
   "source": [
    "bin_x_all"
   ]
  },
  {
   "cell_type": "code",
   "execution_count": 7,
   "id": "300eeef7-4a0e-4d73-8f7d-f998e109fa11",
   "metadata": {},
   "outputs": [],
   "source": [
    "#pcs"
   ]
  },
  {
   "cell_type": "raw",
   "id": "7d8f5f96-1d18-4496-8ba3-8e8b483e61e0",
   "metadata": {},
   "source": [
    "parent_pcs"
   ]
  },
  {
   "cell_type": "code",
   "execution_count": null,
   "id": "7dc33009-0d0b-442a-9323-f5f23122b292",
   "metadata": {},
   "outputs": [],
   "source": []
  }
 ],
 "metadata": {
  "kernelspec": {
   "display_name": "Python 3 (ipykernel)",
   "language": "python",
   "name": "python3"
  },
  "language_info": {
   "codemirror_mode": {
    "name": "ipython",
    "version": 3
   },
   "file_extension": ".py",
   "mimetype": "text/x-python",
   "name": "python",
   "nbconvert_exporter": "python",
   "pygments_lexer": "ipython3",
   "version": "3.11.10"
  }
 },
 "nbformat": 4,
 "nbformat_minor": 5
}
