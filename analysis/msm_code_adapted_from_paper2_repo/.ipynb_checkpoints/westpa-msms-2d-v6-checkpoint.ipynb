{
 "cells": [
  {
   "cell_type": "code",
   "execution_count": 1,
   "id": "1f7fa0e3-141f-4544-87a3-e254510529af",
   "metadata": {},
   "outputs": [],
   "source": [
    "import numpy as np\n",
    "\n",
    "import westpa\n",
    "from westpa.analysis import Run\n",
    "\n",
    "import time\n",
    "\n",
    "import pyemma\n",
    "from decimal import Decimal\n",
    "import matplotlib.pyplot as plt\n",
    "\n",
    "import westpa_h5_reader_msm_functions as hmf\n",
    "\n",
    "import weighted_msms"
   ]
  },
  {
   "cell_type": "code",
   "execution_count": 2,
   "id": "da5dd7fb-d148-4f5d-8ed7-a7d8114772ac",
   "metadata": {},
   "outputs": [],
   "source": [
    "#used as an adapter between my MSM construction and pyemma's\n",
    "class msm():\n",
    "    def __init__(self, eqp, sio):\n",
    "        self.stationary_distribution = eqp\n",
    "        self.active_set = sio"
   ]
  },
  {
   "cell_type": "code",
   "execution_count": null,
   "id": "554a2dde-9546-4906-a62b-864015025352",
   "metadata": {},
   "outputs": [],
   "source": [
    "#miniter = 0\n",
    "#maxiter = 2000 #make a variable\n",
    "#rmax = maxiter\n",
    "\n",
    "use_pyemma=False\n",
    "weighted=False\n",
    "\n",
    "cftr_west = \"/home/jonathan/Documents/grabelab/cftr/chloe-data\"\n",
    "cftr_refpc = \"/home/jonathan/Documents/grabelab/cftr/refeaturization\"\n",
    "\n",
    "\n",
    "if weighted:\n",
    "    savefigname = f\"glpg_reweighted_dissociation_energy_WE_weighted_transitions\"\n",
    "else:\n",
    "    savefigname = f\"glpg_reweighted_dissociation_energy_unweighted_transitions\"\n",
    "    \n",
    "\n",
    "#can we make this read in the bounds from a west.cfg file?\n",
    "h5paths_names = [ [f\"{cftr_west}/wstp_cftr_1_degrabo/west-040925.h5\", f\"{cftr_refpc}/nonlip_glpg_1\", \"pyrazole-1\",  \"blue\",   1500, 2001, [0, 0.25, 0.5, 0.75, 1, 1.25, 1.5, 1.75, 2, 2.25, 2.5, 2.75, 3, 3.25, 3.5, 3.75, 4, 4.25, 4.5, 4.75, 5, 6, 7, 8, 9, 10, 11, 12, 15, 16, 17, 18, 19, 20, 21, 22, 23, 24, 25, 25.5, 26, 26.5, 27,28,29,30,32,34,36,38, 40, 50]],\n",
    "                  [f\"{cftr_west}/wstp_cftr_2_wynton/west-040925.h5\",  f\"{cftr_refpc}/nonlip_glpg_2\", \"pyrazole-2\",  \"cyan\",   500, 1001, [0, 0.25, 0.5, 0.75, 1, 1.25, 1.5, 1.75, 2, 2.25, 2.5, 2.75, 3, 3.25, 3.5, 3.75, 4, 4.25, 4.5, 4.75, 5, 6, 7, 8, 9, 10, 11, 12, 15, 16, 17, 18, 19, 20, 21, 22, 23, 24, 25, 25.5, 26, 26.5, 27,28,29,30,32,34,36,38, 40, 50]],\n",
    "                  [f\"{cftr_west}/wstp_lip_glpg_1/west-040925.h5\",     f\"{cftr_refpc}/lip_glpg_1\",    \"undecanol-1\", \"red\",    1500, 2001, [0, 1, 3, 5, 7, 9, 10, 11, 12, 15, 16, 17, 18, 19, 19.5, 20, 20.5, 21, 21.5, 22, 22.5, 23, 24, 25, 25.5, 26, 26.5, 27,28,29,30,32,34,36,38, 40, 50]],\n",
    "                  [f\"{cftr_west}/wstp_lip_glpg_2/west-040925.h5\",     f\"{cftr_refpc}/lip_glpg_2\",    \"undecanol-2\", \"orange\", 1500, 2001, [0,1,1.3,1.5,1.7,2,2.2,2.4,2.5,2.75,3,3.25,3.5,3.75,4,4.25,4.5,4.75,5,5.25,5.5,5.75,6,6.5,7,8,9,10,11,12,13,14,15,16,17,18,19,20,21,22,23,24,25,25.5,26,26.5,27,28,29,30,32,34,36,38,40,41,50]]\n",
    "]\n",
    "\n",
    "uniform_we_bins = np.arange(0,50,0.2)\n",
    "\n",
    "legend=[]\n",
    "\n",
    "for h5pn in h5paths_names:\n",
    "    h5path = h5pn[0]\n",
    "    binbounds = uniform_we_bins #h5pn[4]\n",
    "    \n",
    "    #binning along continuous PC\n",
    "    \n",
    "    pclims = [binbounds[0], binbounds[-1]]\n",
    "    nb = len(binbounds)+1\n",
    "    \n",
    "    #discrete PC\n",
    "    n_discrete_pc_vals = 1\n",
    "    \n",
    "    #bound state edge\n",
    "    threshold = 0\n",
    "    \n",
    "    t1 = time.time()\n",
    "    pcs, parent_pcs, weights, pc_init, maxiter = hmf.h5_2_pcs(h5path, h5pn[4], h5pn[5])\n",
    "    #print(pcs)\n",
    "    #print(\"----------------------------------------------------------------------------------------------------------\")\n",
    "    #print(parent_pcs)\n",
    "    t2 = time.time()\n",
    "    print(f\"loaded data for {len(pcs)} WE rounds in {t2-t1} seconds\")\n",
    "\n",
    "    rmax=h5pn[5]\n",
    "    #for rmax in range(200,maxiter,200):\n",
    "    \n",
    "    t3 = time.time()\n",
    "    transitions = hmf.pcs_2_transitions(np.concatenate(pcs[:rmax]), np.concatenate(parent_pcs[:rmax]), binbounds, n_discrete_pc_vals)\n",
    "    t4 = time.time()\n",
    "    print(f\"identified {len(transitions)} transitions in {t4-t3} seconds\")\n",
    "\n",
    "    #print(transitions)\n",
    "    \n",
    "    t5 = time.time()\n",
    "    \n",
    "    if use_pyemma:\n",
    "        #consider using deeptime instead, or https://moldyn.github.io/msmhelper/ which is supposedly faster\n",
    "        pyem = pyemma.msm.bayesian_markov_model(list(transitions), lag=1, reversible=True)\n",
    "    elif weighted:\n",
    "        tpm, sio = weighted_msms.transitions_2_msm(transitions, np.concatenate(weights[:rmax]))\n",
    "        eqp = weighted_msms.tpm_2_eqprobs(tpm)\n",
    "        pyem = msm(eqp.transpose()[0], sio)\n",
    "    else:\n",
    "        tpm, sio = weighted_msms.transitions_2_msm(transitions, np.ones(transitions.shape[0]))\n",
    "        eqp = weighted_msms.tpm_2_eqprobs(tpm)\n",
    "        pyem = msm(eqp.transpose()[0], sio)\n",
    "    \n",
    "    t6 = time.time()\n",
    "    print(f\"built MSM in {t6-t5} seconds\")\n",
    "    \n",
    "    # plot MSM energies\n",
    "    q_below_total, bin_x_all, energies = hmf.plot_2d_pc_webins(pyem, nb, binbounds, pclims, n_discrete_pc_vals, pc_init[0], threshold, plottitle=savefigname)\n",
    "\n",
    "    plt.plot(bin_x_all[0], energies[0], color=h5pn[3])\n",
    "    legend.append(h5pn[2])\n",
    "    \n",
    "    #plt.show()\n",
    "    \n",
    "plt.legend(legend)\n",
    "\n",
    "if weighted:\n",
    "    plt.title(\"Reweighted GLPG1837 amide\\nderivative dissociation energy:\\nWE-weighted transitions\")\n",
    "    #savefigname = f\"glpg_reweighted_dissociation_energy_WE_weighted_transitions\"\n",
    "else:\n",
    "    plt.title(\"Reweighted GLPG1837 amide\\nderivative dissociation energy:\\nequal-weight transitions\")\n",
    "    #savefigname = f\"glpg_reweighted_dissociation_energy_unweighted_transitions\"\n",
    "    \n",
    "plt.xlabel(\"ligand center of mass distance\\nfrom bound state (Angstroms)\")\n",
    "plt.ylabel(\"free energy (kT)\")\n",
    "\n",
    "#plt.xlim(0,5)\n",
    "\n",
    "plt.savefig(savefigname+\".svg\", dpi=600, format=\"svg\", bbox_inches=\"tight\")\n"
   ]
  },
  {
   "cell_type": "code",
   "execution_count": 6,
   "id": "f0ac365b-3b92-4632-b43d-5183e52e4cb4",
   "metadata": {},
   "outputs": [],
   "source": []
  },
  {
   "cell_type": "code",
   "execution_count": null,
   "id": "122d57b7-af8d-4b1c-8f59-1f2499201bbb",
   "metadata": {},
   "outputs": [],
   "source": [
    "#print(len(pyem.stationary_distribution))\n",
    "#print(len(pyem.active_set))"
   ]
  },
  {
   "cell_type": "code",
   "execution_count": null,
   "id": "8a1d70f0-aa02-4d8f-a96a-200e7676203c",
   "metadata": {},
   "outputs": [],
   "source": [
    "#len(pyem.stationary_distribution[0])"
   ]
  },
  {
   "cell_type": "code",
   "execution_count": null,
   "id": "52d20a9d-bff9-4901-943b-3cff8a8801f9",
   "metadata": {},
   "outputs": [],
   "source": [
    "# import os\n",
    "# print(os.getcwd())"
   ]
  },
  {
   "cell_type": "code",
   "execution_count": null,
   "id": "300eeef7-4a0e-4d73-8f7d-f998e109fa11",
   "metadata": {},
   "outputs": [],
   "source": [
    "#pcs"
   ]
  },
  {
   "cell_type": "code",
   "execution_count": null,
   "id": "690c56d3-67a3-4a13-8240-044380ec8849",
   "metadata": {},
   "outputs": [],
   "source": [
    "a = [1,2,3]"
   ]
  },
  {
   "cell_type": "code",
   "execution_count": null,
   "id": "798304ba-5e59-4d35-92d4-af73840ecfd7",
   "metadata": {},
   "outputs": [],
   "source": [
    "a"
   ]
  },
  {
   "cell_type": "code",
   "execution_count": null,
   "id": "1988e7f0-a798-4508-bdf2-1026258c034d",
   "metadata": {},
   "outputs": [],
   "source": [
    "a[:3]"
   ]
  },
  {
   "cell_type": "code",
   "execution_count": null,
   "id": "c6b236d2-47e0-41d3-ba27-af20a8737803",
   "metadata": {},
   "outputs": [],
   "source": []
  }
 ],
 "metadata": {
  "kernelspec": {
   "display_name": "Python 3 (ipykernel)",
   "language": "python",
   "name": "python3"
  },
  "language_info": {
   "codemirror_mode": {
    "name": "ipython",
    "version": 3
   },
   "file_extension": ".py",
   "mimetype": "text/x-python",
   "name": "python",
   "nbconvert_exporter": "python",
   "pygments_lexer": "ipython3",
   "version": "3.11.10"
  }
 },
 "nbformat": 4,
 "nbformat_minor": 5
}
