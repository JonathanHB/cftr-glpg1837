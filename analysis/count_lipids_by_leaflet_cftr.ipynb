{
 "cells": [
  {
   "cell_type": "code",
   "execution_count": 6,
   "id": "db192da3-0c0c-426c-99e1-1b63d0b0237a",
   "metadata": {},
   "outputs": [
    {
     "name": "stdout",
     "output_type": "stream",
     "text": [
      "boundary: [11.687]\n",
      "upper: 149\n",
      "lower: 140\n"
     ]
    },
    {
     "data": {
      "image/png": "[encoded data removed]",
      "text/plain": [
       "<Figure size 640x480 with 1 Axes>"
      ]
     },
     "metadata": {},
     "output_type": "display_data"
    }
   ],
   "source": [
    "import numpy as np\n",
    "import mdtraj as md\n",
    "import matplotlib.pyplot as plt\n",
    "\n",
    "#file paths\n",
    "def count_lipids(run_ind):\n",
    "    \n",
    "    path = f\"/home/jonathan/Documents/grabelab/cftr/independent-partial-dissociation/{run_ind}/topology/input.gro\"\n",
    "    #f\"/home/jonathan/Documents/grabelab/aac1-ucp1/aac1/existing_simulations/gmx_2020_aran_sims_1_5/0{run_ind}_aac1_aran/0{run_ind}_aac1_aran.init.pdb\"\n",
    "    \n",
    "    trj = md.load(path)\n",
    "    \n",
    "    ref_ind = trj.top.select(\"resSeq 345 and name CA\")\n",
    "    ref_z_init = trj.xyz[0,ref_ind,2]\n",
    "    \n",
    "    p_inds = trj.top.select(\"name P31\")\n",
    "    p_z_init = trj.xyz[0,p_inds,2]\n",
    "    \n",
    "    plt.hist(p_z_init, bins=40)\n",
    "    plt.plot(ref_z_init, color=\"red\")\n",
    "    \n",
    "    z_mean = np.mean(p_z_init)\n",
    "    \n",
    "    upperleaflet = 0\n",
    "    lowerleaflet = 0\n",
    "    \n",
    "    for pzi in p_z_init:\n",
    "        if pzi > ref_z_init: #z_mean*np.sign(ser_z_init-z_mean):\n",
    "            upperleaflet += 1\n",
    "        else:\n",
    "            lowerleaflet += 1\n",
    "   \n",
    "    print(f\"boundary: {ref_z_init}\")\n",
    "    print(f\"upper: {upperleaflet}\")\n",
    "    print(f\"lower: {lowerleaflet}\")\n",
    "\n",
    "\n",
    "#for ri in range(1,6):\n",
    "count_lipids(\"nonlip_glpg_1\")"
   ]
  },
  {
   "cell_type": "code",
   "execution_count": null,
   "id": "4ddf3a5d-14ad-4dce-9c0b-c0cd3f8eb9d7",
   "metadata": {},
   "outputs": [],
   "source": []
  }
 ],
 "metadata": {
  "kernelspec": {
   "display_name": "Python 3 (ipykernel)",
   "language": "python",
   "name": "python3"
  },
  "language_info": {
   "codemirror_mode": {
    "name": "ipython",
    "version": 3
   },
   "file_extension": ".py",
   "mimetype": "text/x-python",
   "name": "python",
   "nbconvert_exporter": "python",
   "pygments_lexer": "ipython3",
   "version": "3.11.10"
  }
 },
 "nbformat": 4,
 "nbformat_minor": 5
}
