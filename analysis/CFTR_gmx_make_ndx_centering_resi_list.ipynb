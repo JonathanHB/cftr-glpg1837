{
 "cells": [
  {
   "cell_type": "code",
   "execution_count": null,
   "metadata": {},
   "outputs": [],
   "source": [
    "#Jonathan Borowsky\n",
    "#10/08/24\n",
    "#print a list of residues to feed into a gromacs make_index command"
   ]
  },
  {
   "cell_type": "code",
   "execution_count": null,
   "metadata": {},
   "outputs": [],
   "source": [
    "segment_resis = [[77, 149], [192, 245], [298, 362], [988, 1034], [857, 889], [900, 942], [1094, 1154]]\n",
    "\n",
    "print(\"color blue, \" + \" or \".join([f\"resi {sr[0]}-{sr[1]}\" for sr in segment_resis]))\n",
    "\n",
    "segment_resis_enumerated = [i for sr in segment_resis for i in range(sr[0], sr[1]+1)]\n",
    "print(\" | \".join([f\"r {sre}\" for sre in segment_resis_enumerated]))"
   ]
  },
  {
   "cell_type": "code",
   "execution_count": null,
   "metadata": {},
   "outputs": [],
   "source": [
    "cftr_site_resis = [305, 236, 232, 233, 229, 309, 308, 311, 312, 313, 316, 315, 304, 925, 926, 927, 928, 929, 930, 931, 932, 933, 934, 935, 936, 861, 862, 863, 864, 865, 866, 867, 868, 869, 870, 871, 872, 873, 874, 875, 876, 877, 996]\n",
    "\n",
    "print(\"+\".join([str(i) for i in cftr_site_resis]))\n",
    "print(\" \".join([str(i) for i in cftr_site_resis]))\n"
   ]
  }
 ],
 "metadata": {
  "kernelspec": {
   "display_name": "serpents",
   "language": "python",
   "name": "python3"
  },
  "language_info": {
   "codemirror_mode": {
    "name": "ipython",
    "version": 3
   },
   "file_extension": ".py",
   "mimetype": "text/x-python",
   "name": "python",
   "nbconvert_exporter": "python",
   "pygments_lexer": "ipython3",
   "version": "3.11.10"
  }
 },
 "nbformat": 4,
 "nbformat_minor": 2
}
