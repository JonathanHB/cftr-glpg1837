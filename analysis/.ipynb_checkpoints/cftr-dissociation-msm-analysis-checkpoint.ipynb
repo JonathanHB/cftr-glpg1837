{
 "cells": [
  {
   "cell_type": "code",
   "execution_count": null,
   "id": "260c22b4-55f6-4abf-9e5e-2e10704e076f",
   "metadata": {},
   "outputs": [],
   "source": [
    "import numpy as np\n",
    "import h5py\n",
    "import pyemma\n",
    "from decimal import Decimal\n",
    "import matplotlib.pyplot as plt\n",
    "\n",
    "from utilities import walker_ancestors\n",
    "from utilities import fe_to_kd_3d_solution\n",
    "from utilities import macrostate_classifier\n",
    "\n",
    "from westpa_msm_functions_cftr import h5_2_transitions_forpyemma_webins\n",
    "from westpa_msm_functions_cftr import plot_2d_pc_webins\n",
    "from westpa_msm_functions_cftr import build_pyemma_msm_webins"
   ]
  },
  {
   "cell_type": "code",
   "execution_count": null,
   "id": "86af8827-e2b5-42b8-8b25-bd98c7cb19c2",
   "metadata": {},
   "outputs": [],
   "source": [
    "#specify input file\n",
    "\n",
    "cftr_west = \"/home/jonathan/Documents/grabelab/cftr/chloe-data\"\n",
    "cftr_refpc = \"/home/jonathan/Documents/grabelab/cftr/refeaturization\"\n",
    "\n",
    "h5paths_names = [[f\"{cftr_west}/wstp_cftr_1_degrabo/west-.h5\", f\"{cftr_refpc}/nonlip_glpg_1\", \"pyrazole-1\", \"blue\"],\n",
    "                  [f\"{cftr_west}/wstp_cftr_2_wynton/west-.h5\", f\"{cftr_refpc}/nonlip_glpg_2\", \"pyrazole-2\", \"cyan\"],\n",
    "                  [f\"{cftr_west}/wstp_lip_glpg_1/west-030425.h5\", f\"{cftr_refpc}/lip_glpg_1\", \"undecanol-1\", \"red\"],\n",
    "                  [f\"{cftr_west}/wstp_lip_glpg_2/west-030425.h5\", f\"{cftr_refpc}/lip_glpg_2\", \"undecanol-2\", \"orange\"]]\n",
    "\n",
    "#westpa rounds to load\n",
    "minround = 0\n",
    "maxround = 490\n",
    "\n",
    "#parameters related to data processing\n",
    "n_walkers = 4\n",
    "we_bins = np.arange(0,4.51,.02)\n",
    "n_pc2_vals = 1 \n",
    "\n",
    "threshold = 5\n",
    "plot_bayesian_error_bars = False #do not use until the log(mean) vs mean(log) issue is fixed\n",
    "\n",
    "#saving figure\n",
    "#a value of \"\" saves no figure\n",
    "figure_name = \"\"\n",
    "\n",
    "legend = []\n",
    "\n",
    "#build msms\n",
    "for h5pn in h5paths_names:  \n",
    "    trjs, pclims, pcinit, trjs_binned_all0, plot_data_1 = build_pyemma_msm_webins(h5pn[0], h5pn[1], minround, maxround, n_pc2_vals, we_bins, threshold, n_walkers, plot_bayesian_error_bars, figure_name)\n",
    "    plt.plot(plot_data_1[0], plot_data_1[1], color = h5pn[3])\n",
    "    legend.append(h5pn[2])\n",
    "    \n",
    "plt.legend(legend)\n"
   ]
  },
  {
   "cell_type": "code",
   "execution_count": null,
   "id": "18a92fc9-cc5c-4fdb-8cf6-88ac97c43175",
   "metadata": {},
   "outputs": [],
   "source": []
  },
  {
   "cell_type": "code",
   "execution_count": null,
   "id": "7c8f5f13-6bf0-48b1-88f2-16fd9fdb124f",
   "metadata": {},
   "outputs": [],
   "source": []
  }
 ],
 "metadata": {
  "kernelspec": {
   "display_name": "Python 3 (ipykernel)",
   "language": "python",
   "name": "python3"
  },
  "language_info": {
   "codemirror_mode": {
    "name": "ipython",
    "version": 3
   },
   "file_extension": ".py",
   "mimetype": "text/x-python",
   "name": "python",
   "nbconvert_exporter": "python",
   "pygments_lexer": "ipython3",
   "version": "3.11.10"
  }
 },
 "nbformat": 4,
 "nbformat_minor": 5
}
