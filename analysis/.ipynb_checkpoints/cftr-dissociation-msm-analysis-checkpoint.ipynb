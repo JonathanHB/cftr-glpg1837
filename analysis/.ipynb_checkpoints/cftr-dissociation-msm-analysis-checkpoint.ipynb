{
 "cells": [
  {
   "cell_type": "code",
   "execution_count": 3,
   "id": "260c22b4-55f6-4abf-9e5e-2e10704e076f",
   "metadata": {},
   "outputs": [],
   "source": [
    "import numpy as np\n",
    "import h5py\n",
    "import pyemma\n",
    "from decimal import Decimal\n",
    "import matplotlib.pyplot as plt\n",
    "\n",
    "from utilities import walker_ancestors\n",
    "from utilities import fe_to_kd_3d_solution\n",
    "from utilities import macrostate_classifier\n",
    "\n",
    "from westpa_msm_functions_cftr import h5_2_transitions_forpyemma_webins\n",
    "from westpa_msm_functions_cftr import plot_2d_pc_webins\n",
    "from westpa_msm_functions_cftr import build_pyemma_msm_webins"
   ]
  },
  {
   "cell_type": "code",
   "execution_count": 2,
   "id": "86af8827-e2b5-42b8-8b25-bd98c7cb19c2",
   "metadata": {},
   "outputs": [
    {
     "name": "stdout",
     "output_type": "stream",
     "text": [
      "loading data for 2000 westpa rounds\n"
     ]
    },
    {
     "ename": "KeyboardInterrupt",
     "evalue": "",
     "output_type": "error",
     "traceback": [
      "\u001b[0;31m---------------------------------------------------------------------------\u001b[0m",
      "\u001b[0;31mKeyboardInterrupt\u001b[0m                         Traceback (most recent call last)",
      "Cell \u001b[0;32mIn[2], line 32\u001b[0m\n\u001b[1;32m     30\u001b[0m \u001b[38;5;66;03m#build msms\u001b[39;00m\n\u001b[1;32m     31\u001b[0m \u001b[38;5;28;01mfor\u001b[39;00m h5pn \u001b[38;5;129;01min\u001b[39;00m h5paths_names:  \n\u001b[0;32m---> 32\u001b[0m     trjs, pclims, pcinit, trjs_binned_all0, plot_data_1 \u001b[38;5;241m=\u001b[39m \u001b[43mbuild_pyemma_msm_webins\u001b[49m\u001b[43m(\u001b[49m\u001b[43mh5pn\u001b[49m\u001b[43m[\u001b[49m\u001b[38;5;241;43m0\u001b[39;49m\u001b[43m]\u001b[49m\u001b[43m,\u001b[49m\u001b[43m \u001b[49m\u001b[38;5;124;43m\"\u001b[39;49m\u001b[38;5;124;43m\"\u001b[39;49m\u001b[43m,\u001b[49m\u001b[43m \u001b[49m\u001b[43mminround\u001b[49m\u001b[43m,\u001b[49m\u001b[43m \u001b[49m\u001b[43mmaxround\u001b[49m\u001b[43m,\u001b[49m\u001b[43m \u001b[49m\u001b[43mn_pc2_vals\u001b[49m\u001b[43m,\u001b[49m\u001b[43m \u001b[49m\u001b[43mwe_bins\u001b[49m\u001b[43m,\u001b[49m\u001b[43m \u001b[49m\u001b[43mthreshold\u001b[49m\u001b[43m,\u001b[49m\u001b[43m \u001b[49m\u001b[43mn_walkers\u001b[49m\u001b[43m,\u001b[49m\u001b[43m \u001b[49m\u001b[43mplot_bayesian_error_bars\u001b[49m\u001b[43m,\u001b[49m\u001b[43m \u001b[49m\u001b[43mfigure_name\u001b[49m\u001b[43m)\u001b[49m\n\u001b[1;32m     33\u001b[0m     plt\u001b[38;5;241m.\u001b[39mplot(plot_data_1[\u001b[38;5;241m0\u001b[39m], plot_data_1[\u001b[38;5;241m1\u001b[39m], color \u001b[38;5;241m=\u001b[39m h5pn[\u001b[38;5;241m3\u001b[39m])\n\u001b[1;32m     34\u001b[0m     legend\u001b[38;5;241m.\u001b[39mappend(h5pn[\u001b[38;5;241m2\u001b[39m])\n",
      "File \u001b[0;32m~/Documents/grabelab/cftr/cftr-glpg1837/analysis/westpa_msm_functions_cftr.py:404\u001b[0m, in \u001b[0;36mbuild_pyemma_msm_webins\u001b[0;34m(h5path, npypath, minround, maxround, n_discrete_pc_vals, binrangeobj, threshold, n_walkers, plot_pyemma_bayesian_error_bars, savefigname)\u001b[0m\n\u001b[1;32m    401\u001b[0m \u001b[38;5;28;01mdef\u001b[39;00m \u001b[38;5;21mbuild_pyemma_msm_webins\u001b[39m(h5path, npypath, minround, maxround, n_discrete_pc_vals, binrangeobj, threshold, n_walkers\u001b[38;5;241m=\u001b[39m\u001b[38;5;241m6\u001b[39m, plot_pyemma_bayesian_error_bars\u001b[38;5;241m=\u001b[39m\u001b[38;5;28;01mTrue\u001b[39;00m, savefigname\u001b[38;5;241m=\u001b[39m\u001b[38;5;124m\"\u001b[39m\u001b[38;5;124m\"\u001b[39m):\n\u001b[1;32m    402\u001b[0m     \n\u001b[1;32m    403\u001b[0m     \u001b[38;5;66;03m# get all transitions, with a number of equally spaced PC1 bins as specified by binrangeobj\u001b[39;00m\n\u001b[0;32m--> 404\u001b[0m     trjs, pclims, pcinit, trjs_binned_all0, pcextremes \u001b[38;5;241m=\u001b[39m \u001b[43mh5_2_transitions_forpyemma_webins\u001b[49m\u001b[43m(\u001b[49m\u001b[43mh5path\u001b[49m\u001b[43m,\u001b[49m\u001b[43m \u001b[49m\u001b[43mnpypath\u001b[49m\u001b[43m,\u001b[49m\u001b[43m \u001b[49m\u001b[43mminround\u001b[49m\u001b[43m,\u001b[49m\u001b[43m \u001b[49m\u001b[43mmaxround\u001b[49m\u001b[43m,\u001b[49m\u001b[43m \u001b[49m\u001b[43mdiscrete_pc_vals\u001b[49m\u001b[38;5;241;43m=\u001b[39;49m\u001b[43mn_discrete_pc_vals\u001b[49m\u001b[43m,\u001b[49m\u001b[43m \u001b[49m\u001b[43mbinset\u001b[49m\u001b[38;5;241;43m=\u001b[39;49m\u001b[43mbinrangeobj\u001b[49m\u001b[43m,\u001b[49m\u001b[43m \u001b[49m\u001b[43mn_walkers\u001b[49m\u001b[38;5;241;43m=\u001b[39;49m\u001b[43mn_walkers\u001b[49m\u001b[43m)\u001b[49m\n\u001b[1;32m    406\u001b[0m     \u001b[38;5;28mprint\u001b[39m(\u001b[38;5;124mf\u001b[39m\u001b[38;5;124m\"\u001b[39m\u001b[38;5;124mloaded data for \u001b[39m\u001b[38;5;132;01m{\u001b[39;00mtrjs[\u001b[38;5;241m0\u001b[39m]\u001b[38;5;241m.\u001b[39mshape[\u001b[38;5;241m0\u001b[39m]\u001b[38;5;132;01m}\u001b[39;00m\u001b[38;5;124m transitions\u001b[39m\u001b[38;5;124m\"\u001b[39m)\n\u001b[1;32m    408\u001b[0m     \u001b[38;5;66;03m# build msm for each number of bins\u001b[39;00m\n\u001b[1;32m    409\u001b[0m \n\u001b[1;32m    410\u001b[0m     \u001b[38;5;66;03m#nbins = [len(binrangeobj)]\u001b[39;00m\n",
      "File \u001b[0;32m~/Documents/grabelab/cftr/cftr-glpg1837/analysis/westpa_msm_functions_cftr.py:133\u001b[0m, in \u001b[0;36mh5_2_transitions_forpyemma_webins\u001b[0;34m(h5path, npypath, minround, maxround, allcomplete, discrete_pc_vals, binset, n_walkers)\u001b[0m\n\u001b[1;32m    130\u001b[0m \u001b[38;5;66;03m# get walker parent progress coordinates\u001b[39;00m\n\u001b[1;32m    131\u001b[0m \u001b[38;5;28;01mif\u001b[39;00m iter_ind \u001b[38;5;241m!=\u001b[39m \u001b[38;5;241m0\u001b[39m:  \u001b[38;5;66;03m# for the first round parent ids are negative\u001b[39;00m\n\u001b[1;32m    132\u001b[0m     \u001b[38;5;66;03m# get walker parent IDs\u001b[39;00m\n\u001b[0;32m--> 133\u001b[0m     parent_inds \u001b[38;5;241m=\u001b[39m \u001b[43m[\u001b[49m\u001b[43mi\u001b[49m\u001b[43m[\u001b[49m\u001b[38;5;241;43m1\u001b[39;49m\u001b[43m]\u001b[49m\u001b[43m \u001b[49m\u001b[38;5;28;43;01mfor\u001b[39;49;00m\u001b[43m \u001b[49m\u001b[43mi\u001b[49m\u001b[43m \u001b[49m\u001b[38;5;129;43;01min\u001b[39;49;00m\u001b[43m \u001b[49m\u001b[43miter_data\u001b[49m\u001b[43m[\u001b[49m\u001b[38;5;124;43m\"\u001b[39;49m\u001b[38;5;124;43mseg_index\u001b[39;49m\u001b[38;5;124;43m\"\u001b[39;49m\u001b[43m]\u001b[49m\u001b[43m]\u001b[49m\n\u001b[1;32m    134\u001b[0m     \u001b[38;5;66;03m#to omit a corrupted round\u001b[39;00m\n\u001b[1;32m    135\u001b[0m     \u001b[38;5;28;01mif\u001b[39;00m \u001b[38;5;28mmax\u001b[39m(parent_inds) \u001b[38;5;241m>\u001b[39m \u001b[38;5;28mlen\u001b[39m(lastiter_pcs0): \u001b[38;5;66;03m#iter_ind == 494 and \u001b[39;00m\n\u001b[1;32m    136\u001b[0m         \u001b[38;5;66;03m#print(f\"skipping iteration {iter_ind}, missing data\")\u001b[39;00m\n",
      "File \u001b[0;32m~/Documents/grabelab/cftr/cftr-glpg1837/analysis/westpa_msm_functions_cftr.py:133\u001b[0m, in \u001b[0;36m<listcomp>\u001b[0;34m(.0)\u001b[0m\n\u001b[1;32m    130\u001b[0m \u001b[38;5;66;03m# get walker parent progress coordinates\u001b[39;00m\n\u001b[1;32m    131\u001b[0m \u001b[38;5;28;01mif\u001b[39;00m iter_ind \u001b[38;5;241m!=\u001b[39m \u001b[38;5;241m0\u001b[39m:  \u001b[38;5;66;03m# for the first round parent ids are negative\u001b[39;00m\n\u001b[1;32m    132\u001b[0m     \u001b[38;5;66;03m# get walker parent IDs\u001b[39;00m\n\u001b[0;32m--> 133\u001b[0m     parent_inds \u001b[38;5;241m=\u001b[39m \u001b[43m[\u001b[49m\u001b[43mi\u001b[49m\u001b[43m[\u001b[49m\u001b[38;5;241;43m1\u001b[39;49m\u001b[43m]\u001b[49m\u001b[43m \u001b[49m\u001b[38;5;28;43;01mfor\u001b[39;49;00m\u001b[43m \u001b[49m\u001b[43mi\u001b[49m\u001b[43m \u001b[49m\u001b[38;5;129;43;01min\u001b[39;49;00m\u001b[43m \u001b[49m\u001b[43miter_data\u001b[49m\u001b[43m[\u001b[49m\u001b[38;5;124;43m\"\u001b[39;49m\u001b[38;5;124;43mseg_index\u001b[39;49m\u001b[38;5;124;43m\"\u001b[39;49m\u001b[43m]\u001b[49m\u001b[43m]\u001b[49m\n\u001b[1;32m    134\u001b[0m     \u001b[38;5;66;03m#to omit a corrupted round\u001b[39;00m\n\u001b[1;32m    135\u001b[0m     \u001b[38;5;28;01mif\u001b[39;00m \u001b[38;5;28mmax\u001b[39m(parent_inds) \u001b[38;5;241m>\u001b[39m \u001b[38;5;28mlen\u001b[39m(lastiter_pcs0): \u001b[38;5;66;03m#iter_ind == 494 and \u001b[39;00m\n\u001b[1;32m    136\u001b[0m         \u001b[38;5;66;03m#print(f\"skipping iteration {iter_ind}, missing data\")\u001b[39;00m\n",
      "File \u001b[0;32m~/anaconda3/envs/serpents/lib/python3.11/site-packages/h5py/_hl/dataset.py:715\u001b[0m, in \u001b[0;36mDataset.__iter__\u001b[0;34m(self)\u001b[0m\n\u001b[1;32m    713\u001b[0m     \u001b[38;5;28;01mraise\u001b[39;00m \u001b[38;5;167;01mTypeError\u001b[39;00m(\u001b[38;5;124m\"\u001b[39m\u001b[38;5;124mCan\u001b[39m\u001b[38;5;124m'\u001b[39m\u001b[38;5;124mt iterate over a scalar dataset\u001b[39m\u001b[38;5;124m\"\u001b[39m)\n\u001b[1;32m    714\u001b[0m \u001b[38;5;28;01mfor\u001b[39;00m i \u001b[38;5;129;01min\u001b[39;00m \u001b[38;5;28mrange\u001b[39m(shape[\u001b[38;5;241m0\u001b[39m]):\n\u001b[0;32m--> 715\u001b[0m     \u001b[38;5;28;01myield\u001b[39;00m \u001b[38;5;28;43mself\u001b[39;49m\u001b[43m[\u001b[49m\u001b[43mi\u001b[49m\u001b[43m]\u001b[49m\n",
      "File \u001b[0;32mh5py/_objects.pyx:54\u001b[0m, in \u001b[0;36mh5py._objects.with_phil.wrapper\u001b[0;34m()\u001b[0m\n",
      "File \u001b[0;32mh5py/_objects.pyx:55\u001b[0m, in \u001b[0;36mh5py._objects.with_phil.wrapper\u001b[0;34m()\u001b[0m\n",
      "File \u001b[0;32m~/anaconda3/envs/serpents/lib/python3.11/site-packages/h5py/_hl/dataset.py:831\u001b[0m, in \u001b[0;36mDataset.__getitem__\u001b[0;34m(self, args, new_dtype)\u001b[0m\n\u001b[1;32m    826\u001b[0m     \u001b[38;5;28;01mreturn\u001b[39;00m arr\n\u001b[1;32m    828\u001b[0m \u001b[38;5;66;03m# === Everything else ===================\u001b[39;00m\n\u001b[1;32m    829\u001b[0m \n\u001b[1;32m    830\u001b[0m \u001b[38;5;66;03m# Perform the dataspace selection.\u001b[39;00m\n\u001b[0;32m--> 831\u001b[0m selection \u001b[38;5;241m=\u001b[39m \u001b[43msel\u001b[49m\u001b[38;5;241;43m.\u001b[39;49m\u001b[43mselect\u001b[49m\u001b[43m(\u001b[49m\u001b[38;5;28;43mself\u001b[39;49m\u001b[38;5;241;43m.\u001b[39;49m\u001b[43mshape\u001b[49m\u001b[43m,\u001b[49m\u001b[43m \u001b[49m\u001b[43margs\u001b[49m\u001b[43m,\u001b[49m\u001b[43m \u001b[49m\u001b[43mdataset\u001b[49m\u001b[38;5;241;43m=\u001b[39;49m\u001b[38;5;28;43mself\u001b[39;49m\u001b[43m)\u001b[49m\n\u001b[1;32m    833\u001b[0m \u001b[38;5;28;01mif\u001b[39;00m selection\u001b[38;5;241m.\u001b[39mnselect \u001b[38;5;241m==\u001b[39m \u001b[38;5;241m0\u001b[39m:\n\u001b[1;32m    834\u001b[0m     \u001b[38;5;28;01mreturn\u001b[39;00m numpy\u001b[38;5;241m.\u001b[39mzeros(selection\u001b[38;5;241m.\u001b[39marray_shape, dtype\u001b[38;5;241m=\u001b[39mnew_dtype)\n",
      "File \u001b[0;32m~/anaconda3/envs/serpents/lib/python3.11/site-packages/h5py/_hl/selections.py:82\u001b[0m, in \u001b[0;36mselect\u001b[0;34m(shape, args, dataset)\u001b[0m\n\u001b[1;32m     79\u001b[0m     space \u001b[38;5;241m=\u001b[39m h5s\u001b[38;5;241m.\u001b[39mcreate_simple(shape)\n\u001b[1;32m     80\u001b[0m     selector \u001b[38;5;241m=\u001b[39m _selector\u001b[38;5;241m.\u001b[39mSelector(space)\n\u001b[0;32m---> 82\u001b[0m \u001b[38;5;28;01mreturn\u001b[39;00m selector\u001b[38;5;241m.\u001b[39mmake_selection(args)\n",
      "File \u001b[0;32mh5py/_selector.pyx:290\u001b[0m, in \u001b[0;36mh5py._selector.Selector.make_selection\u001b[0;34m()\u001b[0m\n",
      "File \u001b[0;32m<frozen importlib._bootstrap>:405\u001b[0m, in \u001b[0;36mparent\u001b[0;34m(self)\u001b[0m\n",
      "\u001b[0;31mKeyboardInterrupt\u001b[0m: "
     ]
    }
   ],
   "source": [
    "#specify input file\n",
    "\n",
    "cftr_west = \"/home/jonathan/Documents/grabelab/cftr/chloe-data\"\n",
    "cftr_refpc = \"/home/jonathan/Documents/grabelab/cftr/refeaturization\"\n",
    "\n",
    "h5paths_names = [[f\"{cftr_west}/wstp_cftr_1_degrabo/west-040925.h5\", f\"{cftr_refpc}/nonlip_glpg_1\", \"pyrazole-1\", \"blue\"],\n",
    "                  [f\"{cftr_west}/wstp_cftr_2_wynton/west-040925.h5\", f\"{cftr_refpc}/nonlip_glpg_2\", \"pyrazole-2\", \"cyan\"],\n",
    "                  [f\"{cftr_west}/wstp_lip_glpg_1/west-040925.h5\", f\"{cftr_refpc}/lip_glpg_1\", \"undecanol-1\", \"red\"],\n",
    "                  [f\"{cftr_west}/wstp_lip_glpg_2/west-040925.h5\", f\"{cftr_refpc}/lip_glpg_2\", \"undecanol-2\", \"orange\"]]\n",
    "\n",
    "#westpa rounds to load\n",
    "minround = 0\n",
    "maxround = -1\n",
    "\n",
    "#parameters related to data processing\n",
    "n_walkers = 4\n",
    "we_bins = np.arange(0,50,0.1)\n",
    "#np.arange(0,6,.02) #for refeaturized data\n",
    "n_pc2_vals = 1 \n",
    "\n",
    "threshold = 5\n",
    "plot_bayesian_error_bars = False #do not use until the log(mean) vs mean(log) issue is fixed\n",
    "\n",
    "#saving figure\n",
    "#a value of \"\" saves no figure\n",
    "figure_name = \"\"\n",
    "\n",
    "legend = []\n",
    "\n",
    "#build msms\n",
    "for h5pn in h5paths_names:  \n",
    "    trjs, pclims, pcinit, trjs_binned_all0, plot_data_1 = build_pyemma_msm_webins(h5pn[0], \"\", minround, maxround, n_pc2_vals, we_bins, threshold, n_walkers, plot_bayesian_error_bars, figure_name)\n",
    "    plt.plot(plot_data_1[0], plot_data_1[1], color = h5pn[3])\n",
    "    legend.append(h5pn[2])\n",
    "    \n",
    "plt.legend(legend)\n"
   ]
  },
  {
   "cell_type": "code",
   "execution_count": 3,
   "id": "18a92fc9-cc5c-4fdb-8cf6-88ac97c43175",
   "metadata": {},
   "outputs": [],
   "source": [
    "#TODO what the heck is the trace going down to 1??? find that trajectory. It's just a bug because mdtraj compute center of mass does not account for periodic boundaries"
   ]
  },
  {
   "cell_type": "code",
   "execution_count": 5,
   "id": "7c8f5f13-6bf0-48b1-88f2-16fd9fdb124f",
   "metadata": {},
   "outputs": [
    {
     "name": "stdout",
     "output_type": "stream",
     "text": [
      "loading data for 137 westpa rounds\n",
      "loaded data for 42870 transitions\n"
     ]
    },
    {
     "data": {
      "text/plain": [
       "<matplotlib.legend.Legend at 0x797ea90829d0>"
      ]
     },
     "execution_count": 5,
     "metadata": {},
     "output_type": "execute_result"
    },
    {
     "data": {
      "image/png": "[encoded data removed]",
      "text/plain": [
       "<Figure size 640x480 with 1 Axes>"
      ]
     },
     "metadata": {},
     "output_type": "display_data"
    }
   ],
   "source": [
    "#specify input file\n",
    "\n",
    "cftr_west = \"/home/jonathan/Documents/grabelab/cftr/ligand-simulations/\"\n",
    "\n",
    "h5paths_names = [[f\"{cftr_west}/nonlipidated/westpa/westpa-63/west-041425-1528.h5\", \"glpg1837\", \"blue\"]]\n",
    "\n",
    "#westpa rounds to load\n",
    "minround = 0\n",
    "maxround = -1\n",
    "\n",
    "#parameters related to data processing\n",
    "n_walkers = 6\n",
    "we_bins = np.arange(-5,5,0.1)\n",
    "#np.arange(0,6,.02) #for refeaturized data\n",
    "n_pc2_vals = 1 \n",
    "\n",
    "threshold = 5\n",
    "plot_bayesian_error_bars = False #do not use until the log(mean) vs mean(log) issue is fixed\n",
    "\n",
    "#saving figure\n",
    "#a value of \"\" saves no figure\n",
    "figure_name = \"\"\n",
    "\n",
    "legend = []\n",
    "\n",
    "#build msms\n",
    "for h5pn in h5paths_names:  \n",
    "    trjs, pclims, pcinit, trjs_binned_all0, plot_data_1 = build_pyemma_msm_webins(h5pn[0], \"\", minround, maxround, n_pc2_vals, we_bins, threshold, n_walkers, plot_bayesian_error_bars, figure_name)\n",
    "    plt.plot(plot_data_1[0], plot_data_1[1], color = h5pn[2])\n",
    "    legend.append(h5pn[1])\n",
    "    \n",
    "plt.legend(legend)\n"
   ]
  },
  {
   "cell_type": "code",
   "execution_count": null,
   "id": "6682fec9-daab-4402-a1b2-d544106d8379",
   "metadata": {},
   "outputs": [],
   "source": [
    "#TODO save out box dimensions as a WE PC for tail correction\n",
    "#consider theory of how to properly reweight a TCM/TPM given the fractional probability of some bins existing\n"
   ]
  }
 ],
 "metadata": {
  "kernelspec": {
   "display_name": "Python 3 (ipykernel)",
   "language": "python",
   "name": "python3"
  },
  "language_info": {
   "codemirror_mode": {
    "name": "ipython",
    "version": 3
   },
   "file_extension": ".py",
   "mimetype": "text/x-python",
   "name": "python",
   "nbconvert_exporter": "python",
   "pygments_lexer": "ipython3",
   "version": "3.11.10"
  }
 },
 "nbformat": 4,
 "nbformat_minor": 5
}
