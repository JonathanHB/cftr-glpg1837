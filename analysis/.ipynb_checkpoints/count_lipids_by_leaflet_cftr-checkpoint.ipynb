{
 "cells": [
  {
   "cell_type": "code",
   "execution_count": null,
   "id": "db192da3-0c0c-426c-99e1-1b63d0b0237a",
   "metadata": {},
   "outputs": [],
   "source": [
    "import numpy as np\n",
    "import mdtraj as md\n",
    "import matplotlib.pyplot as plt\n",
    "\n",
    "#file paths\n",
    "def count_lipids(run_ind):\n",
    "    \n",
    "    path = f\"/home/jonathan/Documents/grabelab/cftr/independent-partial-dissociation/{run_ind}/topology/input.gro\"\n",
    "    #f\"/home/jonathan/Documents/grabelab/aac1-ucp1/aac1/existing_simulations/gmx_2020_aran_sims_1_5/0{run_ind}_aac1_aran/0{run_ind}_aac1_aran.init.pdb\"\n",
    "    \n",
    "    trj = md.load(path)\n",
    "    \n",
    "    ser_ind = trj.top.select(\"resSeq 1 and name CA\")\n",
    "    ser_z_init = trj.xyz[0,ser_ind,2]\n",
    "    \n",
    "    p_inds = trj.top.select(\"element P and resname POPC\")\n",
    "    p_z_init = trj.xyz[0,p_inds,2]\n",
    "    \n",
    "    plt.hist(p_z_init, bins=40)\n",
    "    plt.plot(ser_z_init, color=\"red\")\n",
    "    \n",
    "    z_mean = np.mean(p_z_init)\n",
    "    \n",
    "    upperleaflet = 0\n",
    "    lowerleaflet = 0\n",
    "    \n",
    "    for pzi in p_z_init:\n",
    "        if pzi > z_mean*np.sign(ser_z_init-z_mean):\n",
    "            upperleaflet += 1\n",
    "        else:\n",
    "            lowerleaflet += 1\n",
    "    \n",
    "    print(f\"upper: {upperleaflet}\")\n",
    "    print(f\"lower: {lowerleaflet}\")\n",
    "\n",
    "\n",
    "for ri in range(1,6):\n",
    "    count_lipids(ri)"
   ]
  }
 ],
 "metadata": {
  "kernelspec": {
   "display_name": "Python 3 (ipykernel)",
   "language": "python",
   "name": "python3"
  },
  "language_info": {
   "codemirror_mode": {
    "name": "ipython",
    "version": 3
   },
   "file_extension": ".py",
   "mimetype": "text/x-python",
   "name": "python",
   "nbconvert_exporter": "python",
   "pygments_lexer": "ipython3",
   "version": "3.11.10"
  }
 },
 "nbformat": 4,
 "nbformat_minor": 5
}
