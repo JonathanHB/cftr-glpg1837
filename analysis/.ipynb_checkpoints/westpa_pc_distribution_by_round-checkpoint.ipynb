{
 "cells": [
  {
   "cell_type": "code",
   "execution_count": 1,
   "id": "f15721b6",
   "metadata": {
    "scrolled": true
   },
   "outputs": [],
   "source": [
    "import numpy as np\n",
    "import h5py\n",
    "import matplotlib.pyplot as plt\n",
    "import matplotlib as mpl\n"
   ]
  },
  {
   "cell_type": "code",
   "execution_count": 2,
   "id": "3ee1e020",
   "metadata": {
    "scrolled": true
   },
   "outputs": [],
   "source": [
    "#load walker weights and progress coordinates from west.h5 file\n",
    "\n",
    "def load_h5_pc_data(abspath, date_time, miniter=0, maxiter=-1, include_last_round=False):\n",
    "\n",
    "    #---------------------------------------------------\n",
    "    #load westpa output file\n",
    "\n",
    "    with h5py.File(f'{abspath}/west{date_time}.h5', 'r') as f:\n",
    "\n",
    "        iter_data = [iter for iter in f[\"iterations\"]]\n",
    "\n",
    "        if maxiter == -1:\n",
    "            if include_last_round:\n",
    "                maxiter = len(iter_data)\n",
    "            else:\n",
    "                maxiter = len(iter_data) - 1\n",
    "\n",
    "        #note that the number of containing arrays is sensitive to \n",
    "        #whether the data is extracted by indexing or list comprehension\n",
    "        pcoord_ndim = len(f[\"iterations\"][f'iter_{str(miniter+1).zfill(8)}']['pcoord'][0][0])\n",
    "\n",
    "        #this could be done by another layer of list comprehension but this is more readable\n",
    "        pcoords = []\n",
    "        for pcd in range(pcoord_ndim):\n",
    "            pcoords.append([[i[0][pcd] for i in f[\"iterations\"][f'iter_{str(i+1).zfill(8)}']['pcoord']] for i in range(miniter, maxiter)])\n",
    "\n",
    "        iters = [[i for j in range(len(pcoords[0][i-miniter]))] for i in range(miniter, maxiter)]\n",
    "        weights = [[i[0] for i in f[\"iterations\"][f'iter_{str(i+1).zfill(8)}'][\"seg_index\"]] for i in range(miniter, maxiter)]\n",
    "\n",
    "    print(f\"loading westpa iterations {miniter+1} to {maxiter}\")\n",
    "\n",
    "    #---------------------------------------------------\n",
    "    #make flattened list versions\n",
    "\n",
    "    pcoords_flat = [[j for i in pcoords[pcd] for j in i ] for pcd in range(pcoord_ndim)]\n",
    "    iters_flat   = [j for i in iters for j in i ]\n",
    "    weights_flat = [j for i in weights for j in i ]    \n",
    "    \n",
    "    return pcoords_flat, iters_flat, weights_flat, maxiter, pcoords, weights\n"
   ]
  },
  {
   "cell_type": "code",
   "execution_count": 3,
   "id": "07de905d",
   "metadata": {
    "scrolled": true
   },
   "outputs": [],
   "source": [
    "#convert populations to relative free energies and large constants where there's no sampling\n",
    "\n",
    "def pops_2_fe(populations):\n",
    "    \n",
    "    real_log = lambda x: -np.log(x) if x != 0 else 9999\n",
    "\n",
    "    relative_fe_t = np.zeros(populations.shape) #hist2d_pc1_pc2[0]\n",
    "\n",
    "    for i in range(populations.shape[0]):\n",
    "        for j in range(populations.shape[1]):\n",
    "            relative_fe_t[i][j]=real_log(populations[i][j])\n",
    "\n",
    "    relative_fe = np.rot90(relative_fe_t)\n",
    "    \n",
    "    #plt.matshow(relative_fe)\n",
    "    \n",
    "    return relative_fe"
   ]
  },
  {
   "cell_type": "code",
   "execution_count": 4,
   "id": "babc60d1",
   "metadata": {
    "scrolled": true
   },
   "outputs": [],
   "source": [
    "#see the following stackoverfow posts: \n",
    "# https://stackoverflow.com/questions/22548813/python-color-map-but-with-all-zero-values-mapped-to-black\n",
    "# https://stackoverflow.com/questions/56062299/how-to-add-axis-labels-to-imshow-plots-in-python\n",
    "# https://stackoverflow.com/questions/13384653/imshow-extent-and-aspect\n",
    "\n",
    "def plot_masked_energies(relative_fe, xlims, ylims, plot_size, aspect_ratio, labels):\n",
    "\n",
    "    # mask 'bad' regions with no sampling\n",
    "    masked_rfe = np.ma.masked_where(relative_fe == 9999, relative_fe)\n",
    "\n",
    "    #set color mapping for regions with sampling\n",
    "    cmap = mpl.colormaps.get_cmap(\"viridis\").copy()\n",
    "\n",
    "    #set color for 'bad' regions with no sampling\n",
    "    cmap.set_bad(color='grey')\n",
    "\n",
    "    imshow_scale_constant = 2.9\n",
    "    pltx = plot_size*imshow_scale_constant\n",
    "    plty = plot_size*imshow_scale_constant\n",
    "    plt.figure(figsize=(pltx,plty))\n",
    "    plt.xlabel(labels[0])\n",
    "    plt.ylabel(labels[1])\n",
    "\n",
    "    im = plt.imshow(masked_rfe, interpolation='none', cmap=cmap, extent = [xlims[0], xlims[1], ylims[0], ylims[1]], aspect = aspect_ratio, vmax=25)\n",
    "    plt.show()"
   ]
  },
  {
   "cell_type": "code",
   "execution_count": 5,
   "id": "033066da",
   "metadata": {
    "scrolled": true
   },
   "outputs": [],
   "source": [
    "def old_free_energies_by_round(xlims, ylims, populations, n_rounds_to_average, plot_size, aspect_ratio, labels, plottitle):\n",
    "    #calculate and plot free energies\n",
    "    relative_fe = pops_2_fe(populations)\n",
    "    \n",
    "    #plot free energies for last round\n",
    "    print(relative_fe.shape)\n",
    "    relative_fe_x = []\n",
    "    relative_fe_y = []\n",
    "    relative_fe_y_std = []\n",
    "\n",
    "    #loop over bins\n",
    "    for i in range(relative_fe.shape[1]):\n",
    "\n",
    "        relative_fe_x.append(i*(xlims[1]-xlims[0])/relative_fe.shape[1] + xlims[0])\n",
    "        \n",
    "        round_relative_fe_y = []\n",
    "\n",
    "        #loop over rounds\n",
    "        for j in range(n_rounds_to_average):\n",
    "            if relative_fe[j][i] < 9999:\n",
    "                round_relative_fe_y.append(relative_fe[j][i])\n",
    "\n",
    "        relative_fe_y.append(np.mean(round_relative_fe_y))\n",
    "        relative_fe_y_std.append(np.std(round_relative_fe_y))\n",
    "\n",
    "    #plt.errorbar(relative_fe_x,relative_fe_y, yerr=relative_fe_y_std)\n",
    "    plt.plot(relative_fe_x,relative_fe_y)\n",
    "    plt.xlim(xlims[0], xlims[1])\n",
    "    #plt.xlim(0.25,1)\n",
    "\n",
    "    plt.xlabel(labels[0])\n",
    "    #plt.xlabel(\"water wire maximum gap length (nm)\")\n",
    "    plt.ylabel(\"free energy (kT)\")\n",
    "    \n",
    "    plt.savefig(plottitle)\n",
    "    plt.show()\n",
    "    \n",
    "    plot_masked_energies(relative_fe, xlims, ylims, plot_size, aspect_ratio, labels)\n",
    "\n",
    "    return relative_fe_x, relative_fe_y"
   ]
  },
  {
   "cell_type": "code",
   "execution_count": 6,
   "id": "eaae7414-6aa2-48f7-9e4c-854e802af344",
   "metadata": {},
   "outputs": [],
   "source": [
    "def free_energies_by_round(xlims, ylims, populations, n_rounds_to_average, plot_size, aspect_ratio, labels, plottitle):\n",
    "    relative_fe = pops_2_fe(populations)\n",
    "    plot_masked_energies(relative_fe, xlims, ylims, plot_size, aspect_ratio, labels)\n"
   ]
  },
  {
   "cell_type": "code",
   "execution_count": 7,
   "id": "fc198674-a49f-42b4-9908-886dd12546a4",
   "metadata": {},
   "outputs": [],
   "source": [
    "#calculate and plot free energies\n",
    "def plot_average_fe(xlims, ylims, populations, n_rounds_to_average, plot_size, aspect_ratio, labels, plottitle):\n",
    "\n",
    "    print(populations.shape)\n",
    "    pops_mean = np.mean(populations, axis=1)\n",
    "\n",
    "    x = []\n",
    "    energies = []\n",
    "\n",
    "    for i, p in enumerate(pops_mean):\n",
    "        if p != 0:\n",
    "            x.append(i*(xlims[1]-xlims[0])/pops_mean.shape[0] + xlims[0])\n",
    "            energies.append(-np.log(p))\n",
    "            \n",
    "    plt.plot(x, energies)\n",
    "    plt.xlabel(labels[0])\n",
    "    plt.ylabel(\"free energy (kT)\")\n",
    "    plt.show()\n",
    "\n",
    "    return x, energies\n"
   ]
  },
  {
   "cell_type": "code",
   "execution_count": 22,
   "id": "a008ae3f",
   "metadata": {
    "scrolled": true
   },
   "outputs": [],
   "source": [
    "    \n",
    "def populations_by_round(\n",
    "    data, \n",
    "    weights, \n",
    "    limits = ((0, 1), (0, 1)), \n",
    "    #bins = ([0,1,2], [0,1,2]),\n",
    "    labels = (\"distance from binding site\", \"westpa round\"), \n",
    "    bin_densities = [10,2], \n",
    "    transpose = False, \n",
    "    plot_size = 6,\n",
    "    aspect_ratio = 0.03):\n",
    "\n",
    "    #----------------------------------------------\n",
    "    # input : axis mapping; more convenient than manually switching all the different arguments\n",
    "    \n",
    "    if not transpose:\n",
    "        invlist = [0,1]\n",
    "    else:\n",
    "        invlist = [1,0]\n",
    "        aspect_ratio = 1/aspect_ratio\n",
    "       \n",
    "    xlims = limits[invlist[0]]\n",
    "    xlabel = labels[invlist[0]]\n",
    "    xvals = data[invlist[0]]\n",
    "    x_bin_densities = bin_densities[invlist[0]]\n",
    "\n",
    "    ylims = limits[invlist[1]]\n",
    "    ylabel = labels[invlist[1]]\n",
    "    yvals = data[invlist[1]]\n",
    "    y_bin_densities = bin_densities[invlist[1]]\n",
    "\n",
    "    #----------------------------------------------\n",
    "    #plotting parameters\n",
    "    \n",
    "    #set numbers of x and y bins using a constant bin density per nanometer\n",
    "    pcx_bins = round((xlims[1]-xlims[0])*x_bin_densities)\n",
    "    pcy_bins = round((ylims[1]-ylims[0])*y_bin_densities)\n",
    "    # pcx_bins = bins[0]\n",
    "    # pcy_bins = bins[1]\n",
    "    \n",
    "    #set plot size using a constant screen length per nanometer\n",
    "    sizeconstant_x = plot_size\n",
    "    sizeconstant_y = plot_size*aspect_ratio\n",
    "    pltx = sizeconstant_x*(xlims[1]-xlims[0])\n",
    "    plty = sizeconstant_y*(ylims[1]-ylims[0])\n",
    "\n",
    "    #----------------------------------------------\n",
    "    #bin and plot data using plt.histogram\n",
    "\n",
    "    plt.figure(figsize=(pltx,plty))\n",
    "\n",
    "    hist2d_pc1_pc2 = plt.hist2d(x=xvals, y=yvals, weights=weights, range=(xlims,ylims), bins=(pcx_bins, pcy_bins))\n",
    "    \n",
    "    plt.xlim(xlims)\n",
    "    plt.ylim(ylims)\n",
    "    #plt.title(\"water wire length distribution by westpa round\")\n",
    "    plt.xlabel(xlabel)\n",
    "    plt.ylabel(ylabel)\n",
    "    #plt.savefig(\"we08-2d-fe-axis-template\")\n",
    "    plt.show()\n",
    "        \n",
    "    #return histogram coordinate limits and populations\n",
    "    return xlims, ylims, hist2d_pc1_pc2[0]\n"
   ]
  },
  {
   "cell_type": "code",
   "execution_count": 23,
   "id": "0c7651e9",
   "metadata": {
    "scrolled": true
   },
   "outputs": [],
   "source": [
    "def probability_below_threshold(pcoords, weights, threshold, n_rounds_to_average):\n",
    "    p_below_by_round = []\n",
    "    \n",
    "    outer_ind = 0\n",
    "    \n",
    "    for pcs, ws in zip(pcoords[outer_ind], weights):\n",
    "        p_below_by_round.append(sum([p*w for p,w in zip(pcs,ws) if p<threshold]))\n",
    "        \n",
    "    p_average = []\n",
    "    for j in range(n_rounds_to_average, len(p_below_by_round), n_rounds_to_average):\n",
    "        p_average.append(np.mean(p_below_by_round[j-n_rounds_to_average : j]))\n",
    "        \n",
    "    return p_average"
   ]
  },
  {
   "cell_type": "markdown",
   "id": "2e01c8ea",
   "metadata": {},
   "source": [
    "# Run plotting methods"
   ]
  },
  {
   "cell_type": "markdown",
   "id": "4757e63c-6e4f-434f-b7dc-9194e2e89f38",
   "metadata": {},
   "source": [
    "### various westpa runs"
   ]
  },
  {
   "cell_type": "code",
   "execution_count": null,
   "id": "94fedd50-b627-4683-829e-5602ce33a328",
   "metadata": {},
   "outputs": [
    {
     "name": "stdout",
     "output_type": "stream",
     "text": [
      "loading westpa iterations 1901 to 2000\n",
      "plotting populations\n"
     ]
    }
   ],
   "source": [
    "#load data\n",
    "#each entry is [abspath, date_time, miniter, maxiter]\n",
    "path_h5date = [\n",
    "    [\"/Users/jonathanborowsky/Documents/grabelab/aac1-ucp1/ucp1/trajectories/we28d8\", \"-060324-1622\", 0, -1],\n",
    "    [\"/Users/jonathanborowsky/Documents/grabelab/aac1-ucp1/ucp1/trajectories/we28d9\", \"-060324-1622\", 0, -1],\n",
    "    [\"/Users/jonathanborowsky/Documents/grabelab/aac1-ucp1/ucp1/trajectories/we50\", \"-101324-1524\", 514, -1],\n",
    "    [\"/Users/jonathanborowsky/Documents/grabelab/aac1-ucp1/ucp1/trajectories/we51\", \"-101324-1525\", 509, -1],\n",
    "    [\"/Users/jonathanborowsky/Documents/grabelab/aac1-ucp1/ucp1/trajectories/we37\", \"-101324-0816\", 0, -1],\n",
    "    [\"/Users/jonathanborowsky/Documents/grabelab/aac1-ucp1/ucp1/trajectories/we43\", \"-101324-2009\", 0, -1],\n",
    "    [\"/Users/jonathanborowsky/Documents/grabelab/aac1-ucp1/aac1/trajectories/we54\", \"-120524-1138\", 0, -1],\n",
    "    [\"/Users/jonathanborowsky/Documents/grabelab/aac1-ucp1/aac1/trajectories/we55\", \"-121424-1123\", 0, -1],\n",
    "    [\"/home/jonathan/Documents/grabelab/aac1-ucp1/aac1/trajectories/we57\", \"-010925-1219\", 0, -1],\n",
    "    [\"/home/jonathan/Documents/grabelab/aac1-ucp1/aac1/trajectories/we58\", \"-011325-1053\", 0, -1],\n",
    "    [\"/home/jonathan/Documents/grabelab/aac1-ucp1/aac1/trajectories/we61\", \"-020325-0941\", 0, -1],\n",
    "    [\"/home/jonathan/Documents/grabelab/aac1-ucp1/aac1/trajectories/we62\", \"-012825-1036\", 0, -1],\n",
    "    [\"/home/jonathan/Documents/grabelab/cftr/ligand-simulations/nonlipidated/westpa/westpa-63\", \"-041525-1055\", 0, -1],\n",
    "    [\"/home/jonathan/Documents/grabelab/cftr/chloe-data/wstp_cftr_1_degrabo\", \"-051325\", 1900, 2000, [0, 0.25, 0.5, 0.75, 1, 1.25, 1.5, 1.75, 2, 2.25, 2.5, 2.75, 3, 3.25, 3.5, 3.75, 4, 4.25, 4.5, 4.75, 5, 6, 7, 8, 9, 10, 11, 12, 15, 16, 17, 18, 19, 20, 21, 22, 23, 24, 25, 25.5, 26, 26.5, 27,28,29,30,32,34,36,38, 40, 50]],\n",
    "    [\"/home/jonathan/Documents/grabelab/cftr/chloe-data/wstp_cftr_2_wynton\",  \"-051425\",  500, 1000, [0, 0.25, 0.5, 0.75, 1, 1.25, 1.5, 1.75, 2, 2.25, 2.5, 2.75, 3, 3.25, 3.5, 3.75, 4, 4.25, 4.5, 4.75, 5, 6, 7, 8, 9, 10, 11, 12, 15, 16, 17, 18, 19, 20, 21, 22, 23, 24, 25, 25.5, 26, 26.5, 27,28,29,30,32,34,36,38, 40, 50]],\n",
    "    [\"/home/jonathan/Documents/grabelab/cftr/chloe-data/wstp_lip_glpg_1\",     \"-040925\", 1500, 2000, [0, 1, 3, 5, 7, 9, 10, 11, 12, 15, 16, 17, 18, 19, 19.5, 20, 20.5, 21, 21.5, 22, 22.5, 23, 24, 25, 25.5, 26, 26.5, 27,28,29,30,32,34,36,38, 40, 50]],\n",
    "    [\"/home/jonathan/Documents/grabelab/cftr/chloe-data/wstp_lip_glpg_2\",     \"-040925\", 1500, 2000, [0,1,1.3,1.5,1.7,2,2.2,2.4,2.5,2.75,3,3.25,3.5,3.75,4,4.25,4.5,4.75,5,5.25,5.5,5.75,6,6.5,7,8,9,10,11,12,13,14,15,16,17,18,19,20,21,22,23,24,25,25.5,26,26.5,27,28,29,30,32,34,36,38,40,41,50]]]\n",
    "\n",
    "# #can we make this read in the bounds from a west.cfg file?\n",
    "# h5paths_names = [ [f\"{cftr_west}/wstp_cftr_1_degrabo/west-040925.h5\", f\"{cftr_refpc}/nonlip_glpg_1\", \"pyrazole-1\",  \"blue\",   ],\n",
    "#                   [f\"{cftr_west}/wstp_cftr_2_wynton/west-040925.h5\",  f\"{cftr_refpc}/nonlip_glpg_2\", \"pyrazole-2\",  \"cyan\",   ],\n",
    "#                   [f\"{cftr_west}/wstp_lip_glpg_1/west-040925.h5\",     f\"{cftr_refpc}/lip_glpg_1\",    \"undecanol-1\", \"red\",    ],\n",
    "#                   [f\"{cftr_west}/wstp_lip_glpg_2/west-040925.h5\",     f\"{cftr_refpc}/lip_glpg_2\",    \"undecanol-2\", \"orange\", ]\n",
    "# ]\n",
    "\n",
    "fe_x_all = []\n",
    "fe_y_all = []\n",
    "\n",
    "for we_index in [-4]: #\n",
    "    #we_index = -4\n",
    "    \n",
    "    abspath = path_h5date[we_index][0]\n",
    "    date_time = path_h5date[we_index][1]\n",
    "    \n",
    "    miniter = path_h5date[we_index][2]\n",
    "    maxiter = path_h5date[we_index][3]\n",
    "    include_last_round=False\n",
    "    we_bins = path_h5date[we_index][4]\n",
    "    \n",
    "    pcoords_flat, iters_flat, weights_flat, maxiter_value, pcoords, weights = load_h5_pc_data(abspath, date_time, miniter, maxiter, include_last_round)\n",
    "    \n",
    "    #---------------------------------------------------------\n",
    "    #plot populations\n",
    "    \n",
    "    print(\"plotting populations\")\n",
    "    \n",
    "    #parameters\n",
    "    data = (pcoords_flat[0], iters_flat)\n",
    "    limits = ((0, 50), (miniter, maxiter_value))\n",
    "    labels = (\"maximum water wire gap (nm)\", \"westpa round\")\n",
    "    bin_densities = [2,1] #if the data have units, the units of density are the reciprocal of the data units\n",
    "    transpose = False\n",
    "    plot_size = 6\n",
    "    aspect_ratio = 0.03 #automatically raised to the -1st power upon transposition\n",
    "    \n",
    "    #argument line 1 = data\n",
    "    #argument line 2 = histogram parameters and labels\n",
    "    #argument line 3 = plot size and scale parameters\n",
    "    xlims, ylims, populations = populations_by_round(\n",
    "        data, \n",
    "        weights_flat,\n",
    "        limits, \n",
    "        labels, \n",
    "        bin_densities, \n",
    "        transpose, \n",
    "        plot_size, \n",
    "        aspect_ratio)\n",
    "    \n",
    "    \n",
    "    #---------------------------------------------------------\n",
    "    #plot free energies\n",
    "    \n",
    "    #xlims = (0,1)\n",
    "    \n",
    "    print(\"plotting free energies\")\n",
    "    \n",
    "    n_rounds_to_average = 500\n",
    "    plottitle = f\"{abspath}/{abspath.split('/')[-1]}_WE_energy_vs_connectivity\"\n",
    "    free_energies_by_round(xlims, ylims, populations, n_rounds_to_average, plot_size, aspect_ratio, labels, plottitle)\n",
    "    fe_x, fe_y = plot_average_fe(xlims, ylims, populations, n_rounds_to_average, plot_size, aspect_ratio, labels, plottitle)\n",
    "    fe_x_all.append(fe_x)\n",
    "    fe_y_all.append(fe_y)\n",
    "\n",
    "\n",
    "for fxa, fya in zip(fe_x_all, fe_y_all):\n",
    "    plt.plot(fxa, fya)\n",
    "    #plt.xlim(0,10)\n",
    "    # #---------------------------------------------------------\n",
    "    # #plot probability below threshold\n",
    "    \n",
    "    # pbt = probability_below_threshold(pcoords, weights, 5, n_rounds_to_average)\n",
    "    \n",
    "    # plt.plot(pbt)\n",
    "    # #plt.yscale('log')\n",
    "    # plt.xlabel(\"westpa round\")\n",
    "    # plt.ylabel(\"water wire probability\")\n",
    "    # plt.savefig(f\"{abspath}/{abspath.split('/')[-1]}_WE_probability_vs_round\")\n"
   ]
  },
  {
   "cell_type": "code",
   "execution_count": null,
   "id": "b7c91783-42ad-42f1-8893-aafacb1d4816",
   "metadata": {},
   "outputs": [],
   "source": []
  },
  {
   "cell_type": "code",
   "execution_count": null,
   "id": "119790b7-2a0f-40b9-9e70-41baafcec934",
   "metadata": {},
   "outputs": [],
   "source": []
  },
  {
   "cell_type": "code",
   "execution_count": null,
   "id": "b2da8d9c-4887-4063-bf2f-a434904c88d5",
   "metadata": {},
   "outputs": [],
   "source": []
  },
  {
   "cell_type": "code",
   "execution_count": 10,
   "id": "373c5657",
   "metadata": {
    "scrolled": true
   },
   "outputs": [],
   "source": [
    "#x axis: ligand center of mass distance from bound pose (A)\n",
    "#y axis: free energy (kT)\n"
   ]
  },
  {
   "cell_type": "code",
   "execution_count": null,
   "id": "e0f4d256-832c-4b7b-9b96-8f428c51558b",
   "metadata": {},
   "outputs": [],
   "source": []
  },
  {
   "cell_type": "code",
   "execution_count": null,
   "id": "f351a296-726a-4fa3-ae43-d9cb2e84ceba",
   "metadata": {},
   "outputs": [],
   "source": []
  },
  {
   "cell_type": "code",
   "execution_count": 11,
   "id": "ae9904ad-f4fd-4385-b6f4-49f84736c9bc",
   "metadata": {},
   "outputs": [],
   "source": [
    "#weights[5]"
   ]
  },
  {
   "cell_type": "code",
   "execution_count": 11,
   "id": "d1a2b631",
   "metadata": {
    "scrolled": true
   },
   "outputs": [],
   "source": [
    "#plt.hist(weights[-1])"
   ]
  },
  {
   "cell_type": "code",
   "execution_count": 13,
   "id": "9cc01011",
   "metadata": {
    "scrolled": true
   },
   "outputs": [
    {
     "data": {
      "text/plain": [
       "208"
      ]
     },
     "execution_count": 13,
     "metadata": {},
     "output_type": "execute_result"
    }
   ],
   "source": [
    "len(weights[-1])"
   ]
  },
  {
   "cell_type": "code",
   "execution_count": 14,
   "id": "d7255d1c-e04a-4b15-9344-5019a3f7abf8",
   "metadata": {
    "scrolled": true
   },
   "outputs": [
    {
     "data": {
      "image/png": "[encoded data removed]",
      "text/plain": [
       "<Figure size 600x9000 with 1 Axes>"
      ]
     },
     "metadata": {},
     "output_type": "display_data"
    }
   ],
   "source": [
    "#plot populations\n",
    "\n",
    "#parameters\n",
    "data = (pcoords_flat[0], iters_flat)\n",
    "limits = ((0, 1), (miniter, maxiter_value))\n",
    "labels = (\"maximum water wire gap (nm)\", \"westpa round\")\n",
    "bin_densities = [30,1] #if the data have units, the units of density are the reciprocal of the data units\n",
    "transpose = False\n",
    "plot_size = 6\n",
    "aspect_ratio = 0.03 #automatically raised to the -1st power upon transposition\n",
    "\n",
    "#argument line 1 = data\n",
    "#argument line 2 = histogram parameters and labels\n",
    "#argument line 3 = plot size and scale parameters\n",
    "xlims, ylims, populations = populations_by_round(\n",
    "    data, \n",
    "    weights_flat,\n",
    "    limits, \n",
    "    labels, \n",
    "    bin_densities, \n",
    "    transpose, \n",
    "    plot_size, \n",
    "    aspect_ratio)"
   ]
  },
  {
   "cell_type": "code",
   "execution_count": 15,
   "id": "ee4f9599-8de6-4b34-af22-4e3d5e2999b9",
   "metadata": {
    "scrolled": true
   },
   "outputs": [
    {
     "ename": "TypeError",
     "evalue": "free_energies_by_round() missing 2 required positional arguments: 'labels' and 'plottitle'",
     "output_type": "error",
     "traceback": [
      "\u001b[0;31m---------------------------------------------------------------------------\u001b[0m",
      "\u001b[0;31mTypeError\u001b[0m                                 Traceback (most recent call last)",
      "Cell \u001b[0;32mIn[15], line 1\u001b[0m\n\u001b[0;32m----> 1\u001b[0m \u001b[43mfree_energies_by_round\u001b[49m\u001b[43m(\u001b[49m\u001b[43mxlims\u001b[49m\u001b[43m,\u001b[49m\u001b[43m \u001b[49m\u001b[43mylims\u001b[49m\u001b[43m,\u001b[49m\u001b[43m \u001b[49m\u001b[43mpopulations\u001b[49m\u001b[43m,\u001b[49m\u001b[43m \u001b[49m\u001b[43mplot_size\u001b[49m\u001b[43m,\u001b[49m\u001b[43m \u001b[49m\u001b[43maspect_ratio\u001b[49m\u001b[43m,\u001b[49m\u001b[43m \u001b[49m\u001b[43mlabels\u001b[49m\u001b[43m)\u001b[49m\n",
      "\u001b[0;31mTypeError\u001b[0m: free_energies_by_round() missing 2 required positional arguments: 'labels' and 'plottitle'"
     ]
    }
   ],
   "source": [
    "free_energies_by_round(xlims, ylims, populations, plot_size, aspect_ratio, labels)"
   ]
  },
  {
   "cell_type": "code",
   "execution_count": null,
   "id": "6ab036ac-3c4a-487c-a92c-b41171ec6286",
   "metadata": {
    "scrolled": true
   },
   "outputs": [],
   "source": [
    "#plot probability below threshold\n",
    "\n",
    "pbs = probability_below_threshold(pcoords, weights, .33)\n",
    "plt.plot(pbs)\n",
    "plt.yscale('log')"
   ]
  },
  {
   "cell_type": "code",
   "execution_count": null,
   "id": "4ac3506e-8a1d-42cf-b895-cc47e425d963",
   "metadata": {
    "scrolled": true
   },
   "outputs": [],
   "source": [
    "plt.plot([max(i) for i in weights])\n",
    "plt.show()\n",
    "plt.plot([min(i) for i in weights])\n",
    "plt.yscale(\"log\")\n",
    "plt.show()\n",
    "plt.plot([np.median(i) for i in weights])\n",
    "plt.yscale(\"log\")\n",
    "plt.show()"
   ]
  },
  {
   "cell_type": "markdown",
   "id": "a00f55cb-35c6-43dd-9a2a-db765cbf4ddd",
   "metadata": {},
   "source": [
    "### we45"
   ]
  },
  {
   "cell_type": "code",
   "execution_count": null,
   "id": "36686dec-82f7-49dd-ba29-0f94a0b5eec9",
   "metadata": {
    "scrolled": true
   },
   "outputs": [],
   "source": [
    "#load data\n",
    "\n",
    "abspath = \"/home/jonathan/grabelab/aac1-ucp1/aac1/trajectories/we45\" #\"/Users/jonathanborowsky/Documents/grabelab/aac1-ucp1/ucp1/trajectories/bound-dnp/we37\"\n",
    "date_time = '-091724-1240' #'080924-1402' #'051324-0800'\n",
    "\n",
    "miniter=0\n",
    "maxiter=-1\n",
    "include_last_round=False\n",
    "\n",
    "pcoords_flat, iters_flat, weights_flat, maxiter_value, pcoords, weights = load_h5_pc_data(abspath, date_time, miniter, maxiter, include_last_round)\n"
   ]
  },
  {
   "cell_type": "code",
   "execution_count": null,
   "id": "b04d7a05-4b9d-4843-a0e5-8cf52015a091",
   "metadata": {
    "scrolled": true
   },
   "outputs": [],
   "source": [
    "#plot populations\n",
    "\n",
    "#parameters\n",
    "data = (pcoords_flat[0], iters_flat)\n",
    "weights = weights_flat\n",
    "limits = ((0, 1.2), (miniter, maxiter_value))\n",
    "labels = (\"maximum water wire gap (nm)\", \"westpa round\")\n",
    "bin_densities = [40,1] #if the data have units, the units of density are the reciprocal of the data units\n",
    "transpose = False\n",
    "plot_size = 6\n",
    "aspect_ratio = 0.03 #automatically raised to the -1st power upon transposition\n",
    "\n",
    "#argument line 1 = data\n",
    "#argument line 2 = histogram parameters and labels\n",
    "#argument line 3 = plot size and scale parameters\n",
    "xlims, ylims, populations = populations_by_round(\n",
    "    data, \n",
    "    weights, \n",
    "    limits, \n",
    "    labels, \n",
    "    bin_densities, \n",
    "    transpose, \n",
    "    plot_size, \n",
    "    aspect_ratio)"
   ]
  },
  {
   "cell_type": "code",
   "execution_count": null,
   "id": "b1692882-144a-4dc7-b1d2-481582383f6e",
   "metadata": {
    "scrolled": true
   },
   "outputs": [],
   "source": [
    "free_energies_by_round(xlims, ylims, populations, plot_size, aspect_ratio, labels)"
   ]
  },
  {
   "cell_type": "markdown",
   "id": "94355585-e2ab-4a02-959b-09fc9326a695",
   "metadata": {},
   "source": [
    "### we46"
   ]
  },
  {
   "cell_type": "code",
   "execution_count": null,
   "id": "31755649-7820-4690-928f-ea82b26b7577",
   "metadata": {
    "scrolled": true
   },
   "outputs": [],
   "source": [
    "#load data\n",
    "\n",
    "abspath = \"/home/jonathan/grabelab/aac1-ucp1/aac1/trajectories/we46\"\n",
    "#\"/Users/jonathanborowsky/Documents/grabelab/aac1-ucp1/aac1/trajectories/we46\"\n",
    "#\"/home/jonathan/grabelab/aac1-ucp1/aac1/trajectories/we46\" \n",
    "date_time = '-092524-1137' #'-091924-1004' #'080924-1402' #'051324-0800'\n",
    "\n",
    "miniter=0\n",
    "maxiter=-1\n",
    "include_last_round=False\n",
    "\n",
    "pcoords_flat, iters_flat, weights_flat, maxiter_value, pcoords, weights = load_h5_pc_data(abspath, date_time, miniter, maxiter, include_last_round)\n"
   ]
  },
  {
   "cell_type": "code",
   "execution_count": null,
   "id": "93502f76-8f07-4318-a0cd-cff649bf9f97",
   "metadata": {
    "scrolled": true
   },
   "outputs": [],
   "source": [
    "#plot populations\n",
    "\n",
    "#parameters\n",
    "data = (pcoords_flat[0], iters_flat)\n",
    "weights = weights_flat\n",
    "limits = ((0, 1.2), (miniter, maxiter_value))\n",
    "labels = (\"maximum water wire gap (nm)\", \"westpa round\")\n",
    "bin_densities = [40,1] #if the data have units, the units of density are the reciprocal of the data units\n",
    "transpose = False\n",
    "plot_size = 6\n",
    "aspect_ratio = 0.03 #automatically raised to the -1st power upon transposition\n",
    "\n",
    "#argument line 1 = data\n",
    "#argument line 2 = histogram parameters and labels\n",
    "#argument line 3 = plot size and scale parameters\n",
    "xlims, ylims, populations = populations_by_round(\n",
    "    data, \n",
    "    weights, \n",
    "    limits, \n",
    "    labels, \n",
    "    bin_densities, \n",
    "    transpose, \n",
    "    plot_size, \n",
    "    aspect_ratio)"
   ]
  },
  {
   "cell_type": "code",
   "execution_count": null,
   "id": "211e4591-c083-4dff-acd1-f4733559a162",
   "metadata": {
    "scrolled": true
   },
   "outputs": [],
   "source": [
    "free_energies_by_round(xlims, ylims, populations, plot_size, aspect_ratio, labels)"
   ]
  },
  {
   "cell_type": "markdown",
   "id": "8eae5ada-5096-4ff4-b109-275b91c3adf9",
   "metadata": {},
   "source": [
    "## Chloe data"
   ]
  },
  {
   "cell_type": "markdown",
   "id": "d1a06aa9-5541-42ef-9cb2-fca2e749ab77",
   "metadata": {},
   "source": [
    "### wstp_cftr_1_degrabo"
   ]
  },
  {
   "cell_type": "code",
   "execution_count": null,
   "id": "36c15200-0d3b-4288-95b4-bb6c72196e23",
   "metadata": {
    "scrolled": true
   },
   "outputs": [],
   "source": [
    "#load data\n",
    "\n",
    "abspath = \"/home/jonathan/Documents/grabelab/cftr/chloe-data/wstp_lip_glpg_1\" \n",
    "date_time = '-030425'\n",
    "\n",
    "miniter=0\n",
    "maxiter=-1\n",
    "include_last_round=False\n",
    "\n",
    "pcoords_flat, iters_flat, weights_flat, maxiter_value, pcoords, weights = load_h5_pc_data(abspath, date_time, miniter, maxiter, include_last_round)\n"
   ]
  },
  {
   "cell_type": "code",
   "execution_count": null,
   "id": "5c30c4db-d38c-431f-9a23-13c39bbc57d0",
   "metadata": {
    "scrolled": true
   },
   "outputs": [],
   "source": [
    "import random\n",
    "bins = np.arange(0,50,1)\n",
    "print(f\"bins: {bins}\")\n",
    "data_bins = np.digitize(pcoords_flat, bins)[0]\n",
    "binned_data = [[i for i,b in enumerate(data_bins) if b == bb+1] for bb in bins]\n",
    "print([len(i) for i in binned_data])\n",
    "\n",
    "n_walkers = 10\n",
    "sampled_walkers = []\n",
    "\n",
    "for b in binned_data:\n",
    "    n_walkers_ = min(n_walkers, len(b))\n",
    "    if n_walkers != 0:\n",
    "        sampled_walkers.append(random.choices(b, k=n_walkers_))\n",
    "    else:\n",
    "        sampled_walkers.append([])\n",
    "\n",
    "print(sampled_walkers)"
   ]
  },
  {
   "cell_type": "code",
   "execution_count": null,
   "id": "56486211-e64b-4bf8-aca0-9d8b65c5ce09",
   "metadata": {
    "scrolled": true
   },
   "outputs": [],
   "source": [
    "print(max([max(i) for i in pcoords_flat]))"
   ]
  },
  {
   "cell_type": "code",
   "execution_count": null,
   "id": "f61f5e20-870a-4542-a445-3ad7c3c60516",
   "metadata": {
    "scrolled": true
   },
   "outputs": [],
   "source": [
    "plt.plot([max(i) for i in weights])\n",
    "plt.show()\n",
    "plt.plot([min(i) for i in weights])\n",
    "plt.yscale(\"log\")\n",
    "plt.show()\n",
    "plt.plot([np.median(i) for i in weights])\n",
    "plt.yscale(\"log\")\n",
    "plt.show()"
   ]
  },
  {
   "cell_type": "code",
   "execution_count": null,
   "id": "d2fda7e5-a9f5-47d6-bdd6-4eecfe3ebf2e",
   "metadata": {
    "scrolled": true
   },
   "outputs": [],
   "source": [
    "#plot probability below threshold\n",
    "\n",
    "# pbs = probability_below_threshold(pcoords, weights, 1)\n",
    "# plt.plot(pbs)\n",
    "# plt.yscale('log')"
   ]
  },
  {
   "cell_type": "code",
   "execution_count": null,
   "id": "5437de11-79d7-480f-a20e-4c4b55061b3b",
   "metadata": {
    "scrolled": true
   },
   "outputs": [],
   "source": [
    "#plot populations\n",
    "\n",
    "#parameters\n",
    "data = (pcoords_flat[0], iters_flat)\n",
    "weights = weights_flat\n",
    "limits = ((0, 45), (miniter, maxiter_value))\n",
    "labels = (\"maximum water wire gap (nm)\", \"westpa round\")\n",
    "bin_densities = [1/2,1/2] #if the data have units, the units of density are the reciprocal of the data units\n",
    "transpose = False\n",
    "plot_size = 6\n",
    "aspect_ratio = 0.03 #automatically raised to the -1st power upon transposition\n",
    "\n",
    "#argument line 1 = data\n",
    "#argument line 2 = histogram parameters and labels\n",
    "#argument line 3 = plot size and scale parameters\n",
    "xlims, ylims, populations = populations_by_round(\n",
    "    data, \n",
    "    weights,\n",
    "    limits, \n",
    "    labels, \n",
    "    bin_densities, \n",
    "    transpose, \n",
    "    plot_size, \n",
    "    aspect_ratio)\n"
   ]
  },
  {
   "cell_type": "code",
   "execution_count": null,
   "id": "3c92b4ed-2978-45f0-be9c-290eed654ba7",
   "metadata": {},
   "outputs": [],
   "source": [
    "#free_energies_by_round(xlims, ylims, populations, plot_size, aspect_ratio, labels)\n",
    "n_rounds_to_average = 10\n",
    "plottitle=\"\"\n",
    "free_energies_by_round(xlims, ylims, populations, n_rounds_to_average, plot_size, aspect_ratio, labels, plottitle)\n"
   ]
  },
  {
   "cell_type": "markdown",
   "id": "4b27aed6-1e22-4172-9941-516ee6ec76d4",
   "metadata": {},
   "source": [
    "### wstp_cftr_2_wynton"
   ]
  },
  {
   "cell_type": "code",
   "execution_count": null,
   "id": "608f5ede-f9f6-41af-be26-4cd93a18f626",
   "metadata": {
    "scrolled": true
   },
   "outputs": [],
   "source": [
    "#load data\n",
    "\n",
    "abspath = \"/home/jonathan/Documents/grabelab/cftr/chloe-data/wstp_cftr_2_wynton\" #\"/Users/jonathanborowsky/Documents/grabelab/aac1-ucp1/ucp1/trajectories/bound-dnp/we37\"\n",
    "date_time = '-' #'080924-1402' #'051324-0800'\n",
    "\n",
    "miniter=0\n",
    "maxiter=-1\n",
    "include_last_round=False\n",
    "\n",
    "pcoords_flat, iters_flat, weights_flat, maxiter_value, pcoords, weights = load_h5_pc_data(abspath, date_time, miniter, maxiter, include_last_round)\n"
   ]
  },
  {
   "cell_type": "code",
   "execution_count": null,
   "id": "abaca538-d459-4534-aa50-fe83aaf8694f",
   "metadata": {
    "scrolled": true
   },
   "outputs": [],
   "source": [
    "print(max([max(i) for i in pcoords_flat]))"
   ]
  },
  {
   "cell_type": "code",
   "execution_count": null,
   "id": "d0a2a335-52a4-4ae7-a6ca-9118fed8923b",
   "metadata": {
    "scrolled": true
   },
   "outputs": [],
   "source": [
    "plt.plot([max(i) for i in weights])\n",
    "plt.show()\n",
    "plt.plot([min(i) for i in weights])\n",
    "plt.yscale(\"log\")\n",
    "plt.show()\n",
    "plt.plot([np.median(i) for i in weights])\n",
    "plt.yscale(\"log\")\n",
    "plt.show()"
   ]
  },
  {
   "cell_type": "code",
   "execution_count": null,
   "id": "bd12810e-1ed1-4ea2-b504-64c24b77143f",
   "metadata": {
    "scrolled": true
   },
   "outputs": [],
   "source": [
    "#plot probability below threshold\n",
    "\n",
    "pbs = probability_below_threshold(pcoords, weights, 1)\n",
    "plt.plot(pbs)\n",
    "plt.yscale('log')"
   ]
  },
  {
   "cell_type": "code",
   "execution_count": null,
   "id": "9a164933-8205-4efa-bd92-68a52c235a9b",
   "metadata": {
    "scrolled": true
   },
   "outputs": [],
   "source": [
    "#plot populations\n",
    "\n",
    "#parameters\n",
    "data = (pcoords_flat[0], iters_flat)\n",
    "weights = weights_flat\n",
    "limits = ((0, 45), (miniter, maxiter_value))\n",
    "labels = (\"maximum water wire gap (nm)\", \"westpa round\")\n",
    "bin_densities = [1,1] #if the data have units, the units of density are the reciprocal of the data units\n",
    "transpose = False\n",
    "plot_size = 6\n",
    "aspect_ratio = 0.03 #automatically raised to the -1st power upon transposition\n",
    "\n",
    "#argument line 1 = data\n",
    "#argument line 2 = histogram parameters and labels\n",
    "#argument line 3 = plot size and scale parameters\n",
    "xlims, ylims, populations = populations_by_round(\n",
    "    data, \n",
    "    weights,\n",
    "    limits, \n",
    "    labels, \n",
    "    bin_densities, \n",
    "    transpose, \n",
    "    plot_size, \n",
    "    aspect_ratio)\n"
   ]
  },
  {
   "cell_type": "code",
   "execution_count": null,
   "id": "abbd6f02-b847-4790-a8a6-3571099ba6da",
   "metadata": {},
   "outputs": [],
   "source": [
    "n_rounds_to_average = 10\n",
    "plottitle=\"\"\n",
    "free_energies_by_round(xlims, ylims, populations, n_rounds_to_average, plot_size, aspect_ratio, labels, plottitle)"
   ]
  },
  {
   "cell_type": "markdown",
   "id": "223ac684-82eb-446e-99ee-3f1488d9cdd8",
   "metadata": {},
   "source": [
    "### wstp_lip_glpg_1"
   ]
  },
  {
   "cell_type": "code",
   "execution_count": null,
   "id": "2da0a850-7861-4629-bfc3-11d40b9b7e20",
   "metadata": {
    "scrolled": true
   },
   "outputs": [],
   "source": [
    "#load data\n",
    "\n",
    "abspath = \"/home/jonathan/Documents/grabelab/cftr/chloe-data/wstp_lip_glpg_1\" #\"/Users/jonathanborowsky/Documents/grabelab/aac1-ucp1/ucp1/trajectories/bound-dnp/we37\"\n",
    "date_time = '-' #'080924-1402' #'051324-0800'\n",
    "\n",
    "miniter=0\n",
    "maxiter=-1\n",
    "include_last_round=False\n",
    "\n",
    "pcoords_flat, iters_flat, weights_flat, maxiter_value, pcoords, weights = load_h5_pc_data(abspath, date_time, miniter, maxiter, include_last_round)\n"
   ]
  },
  {
   "cell_type": "code",
   "execution_count": null,
   "id": "0ab3d731-fcc1-44b8-9abd-adbae577fe8a",
   "metadata": {
    "scrolled": true
   },
   "outputs": [],
   "source": [
    "#plot populations\n",
    "\n",
    "#parameters\n",
    "data = (pcoords_flat[0], iters_flat)\n",
    "weights = weights_flat\n",
    "limits = ((0, 45), (miniter, maxiter_value))\n",
    "labels = (\"maximum water wire gap (nm)\", \"westpa round\")\n",
    "bin_densities = [1,1] #if the data have units, the units of density are the reciprocal of the data units\n",
    "transpose = False\n",
    "plot_size = 6\n",
    "aspect_ratio = 0.03 #automatically raised to the -1st power upon transposition\n",
    "\n",
    "#argument line 1 = data\n",
    "#argument line 2 = histogram parameters and labels\n",
    "#argument line 3 = plot size and scale parameters\n",
    "xlims, ylims, populations = populations_by_round(\n",
    "    data, \n",
    "    weights,\n",
    "    limits, \n",
    "    labels, \n",
    "    bin_densities, \n",
    "    transpose, \n",
    "    plot_size, \n",
    "    aspect_ratio)\n"
   ]
  },
  {
   "cell_type": "code",
   "execution_count": null,
   "id": "61cf0f3f-1655-40ca-9e6b-78aec27f2d72",
   "metadata": {
    "scrolled": true
   },
   "outputs": [],
   "source": [
    "n_rounds_to_average = 10\n",
    "plottitle=\"\"\n",
    "free_energies_by_round(xlims, ylims, populations, n_rounds_to_average, plot_size, aspect_ratio, labels, plottitle)"
   ]
  },
  {
   "cell_type": "markdown",
   "id": "f1fc7644-76bd-49a1-975b-4999b027c4c1",
   "metadata": {},
   "source": [
    "### wstp_lip_glpg_2"
   ]
  },
  {
   "cell_type": "code",
   "execution_count": null,
   "id": "65b140f9-5871-411e-8a40-500423e93e83",
   "metadata": {
    "scrolled": true
   },
   "outputs": [],
   "source": [
    "#load data\n",
    "\n",
    "abspath = \"/home/jonathan/Documents/grabelab/cftr/chloe-data/wstp_lip_glpg_2\" #\"/Users/jonathanborowsky/Documents/grabelab/aac1-ucp1/ucp1/trajectories/bound-dnp/we37\"\n",
    "date_time = '-continued' #'080924-1402' #'051324-0800'\n",
    "\n",
    "miniter=0\n",
    "maxiter=-1\n",
    "include_last_round=False\n",
    "\n",
    "pcoords_flat, iters_flat, weights_flat, maxiter_value, pcoords, weights = load_h5_pc_data(abspath, date_time, miniter, maxiter, include_last_round)\n"
   ]
  },
  {
   "cell_type": "code",
   "execution_count": null,
   "id": "278f3d08-3e11-45d9-88db-96be4c482919",
   "metadata": {
    "scrolled": true
   },
   "outputs": [],
   "source": [
    "#plot populations\n",
    "\n",
    "#parameters\n",
    "data = (pcoords_flat[0], iters_flat)\n",
    "weights = weights_flat\n",
    "limits = ((0, 45), (miniter, maxiter_value))\n",
    "labels = (\"maximum water wire gap (nm)\", \"westpa round\")\n",
    "bin_densities = [1,1] #if the data have units, the units of density are the reciprocal of the data units\n",
    "transpose = False\n",
    "plot_size = 6\n",
    "aspect_ratio = 0.03 #automatically raised to the -1st power upon transposition\n",
    "\n",
    "#argument line 1 = data\n",
    "#argument line 2 = histogram parameters and labels\n",
    "#argument line 3 = plot size and scale parameters\n",
    "xlims, ylims, populations = populations_by_round(\n",
    "    data, \n",
    "    weights,\n",
    "    limits, \n",
    "    labels, \n",
    "    bin_densities, \n",
    "    transpose, \n",
    "    plot_size, \n",
    "    aspect_ratio)\n"
   ]
  },
  {
   "cell_type": "code",
   "execution_count": null,
   "id": "92f82f6f-a7a9-4440-a907-2b048a0c7660",
   "metadata": {
    "scrolled": true
   },
   "outputs": [],
   "source": [
    "n_rounds_to_average = 10\n",
    "plottitle=\"\"\n",
    "free_energies_by_round(xlims, ylims, populations, n_rounds_to_average, plot_size, aspect_ratio, labels, plottitle)"
   ]
  },
  {
   "cell_type": "markdown",
   "id": "06e60fe3-c277-4c1b-8b1c-0c9b2786c5c7",
   "metadata": {},
   "source": [
    "## we43"
   ]
  },
  {
   "cell_type": "code",
   "execution_count": null,
   "id": "9372318b-1606-4e69-a153-3a5e7834f463",
   "metadata": {
    "scrolled": true
   },
   "outputs": [],
   "source": [
    "#load data\n",
    "\n",
    "abspath = \"/home/jonathan/grabelab/aac1-ucp1/ucp1/trajectories/we43\"\n",
    "date_time = '-090624-1521'\n",
    "\n",
    "miniter=0\n",
    "maxiter=-1\n",
    "include_last_round=False\n",
    "\n",
    "pcoords_flat, iters_flat, weights_flat, maxiter_value, pcoords, weights = load_h5_pc_data(abspath, date_time, miniter, maxiter, include_last_round)\n"
   ]
  },
  {
   "cell_type": "code",
   "execution_count": null,
   "id": "6311f4e7-d118-4293-8af5-477f116c0ee1",
   "metadata": {
    "scrolled": true
   },
   "outputs": [],
   "source": [
    "if False:\n",
    "    plt.plot([max(i) for i in weights])\n",
    "    plt.show()\n",
    "    plt.plot([min(i) for i in weights])\n",
    "    plt.yscale(\"log\")\n",
    "    plt.show()\n",
    "    plt.plot([np.median(i) for i in weights])\n",
    "    plt.yscale(\"log\")\n",
    "    plt.show()"
   ]
  },
  {
   "cell_type": "code",
   "execution_count": null,
   "id": "972f3a89-2ad7-4627-976b-e2f891bfcd66",
   "metadata": {
    "scrolled": true
   },
   "outputs": [],
   "source": [
    "#plot probability below threshold\n",
    "\n",
    "pbt = probability_below_threshold(pcoords, weights, .33)\n",
    "plt.plot(pbt)\n",
    "plt.yscale('log')\n",
    "plt.ylim(10**-12, 1)\n",
    "print(np.mean(pbt))\n",
    "plt.xlabel(\"WE round\")\n",
    "plt.ylabel(\"water wire formation probability\")\n",
    "plt.savefig(\"we43-UCP1-GTP-water-wire-formation-probability-WE\")"
   ]
  },
  {
   "cell_type": "code",
   "execution_count": null,
   "id": "a9c91c5e-290a-4761-9f08-34146f6c68ab",
   "metadata": {
    "scrolled": true
   },
   "outputs": [],
   "source": [
    "#plot populations\n",
    "\n",
    "#parameters\n",
    "data = (pcoords_flat[0], iters_flat)\n",
    "weights = weights_flat\n",
    "limits = ((0, 1), (miniter, maxiter_value))\n",
    "labels = (\"maximum water wire gap (nm)\", \"westpa round\")\n",
    "bin_densities = [30,1] #if the data have units, the units of density are the reciprocal of the data units\n",
    "transpose = False\n",
    "plot_size = 6\n",
    "aspect_ratio = 0.03 #automatically raised to the -1st power upon transposition\n",
    "\n",
    "#argument line 1 = data\n",
    "#argument line 2 = histogram parameters and labels\n",
    "#argument line 3 = plot size and scale parameters\n",
    "xlims, ylims, populations = populations_by_round(\n",
    "    data, \n",
    "    weights,\n",
    "    limits, \n",
    "    labels, \n",
    "    bin_densities, \n",
    "    transpose, \n",
    "    plot_size, \n",
    "    aspect_ratio)\n"
   ]
  },
  {
   "cell_type": "code",
   "execution_count": null,
   "id": "3fdcaf19-b6bf-477a-a930-ee08a1e483e9",
   "metadata": {
    "scrolled": true
   },
   "outputs": [],
   "source": [
    "free_energies_by_round(xlims, ylims, populations, plot_size, aspect_ratio, labels)"
   ]
  },
  {
   "cell_type": "markdown",
   "id": "f851823b-93d3-4fe0-b8ef-22c6092bf9de",
   "metadata": {},
   "source": [
    "## we38"
   ]
  },
  {
   "cell_type": "code",
   "execution_count": null,
   "id": "93c9b35a-3a2b-4d30-8a23-0fa23773876c",
   "metadata": {
    "scrolled": true
   },
   "outputs": [],
   "source": [
    "#load data\n",
    "\n",
    "abspath = \"/home/jonathan/grabelab/aac1-ucp1/ucp1/trajectories/we38\"\n",
    "date_time = '-072224-1558'\n",
    "\n",
    "miniter=0\n",
    "maxiter=-1\n",
    "include_last_round=False\n",
    "\n",
    "pcoords_flat, iters_flat, weights_flat, maxiter_value, pcoords, weights = load_h5_pc_data(abspath, date_time, miniter, maxiter, include_last_round)\n"
   ]
  },
  {
   "cell_type": "code",
   "execution_count": null,
   "id": "2b8c2f82-e437-495b-afd7-b8fc77f13b4e",
   "metadata": {
    "scrolled": true
   },
   "outputs": [],
   "source": [
    "if False:\n",
    "    plt.plot([max(i) for i in weights])\n",
    "    plt.show()\n",
    "    plt.plot([min(i) for i in weights])\n",
    "    plt.yscale(\"log\")\n",
    "    plt.show()\n",
    "    plt.plot([np.median(i) for i in weights])\n",
    "    plt.yscale(\"log\")\n",
    "    plt.show()"
   ]
  },
  {
   "cell_type": "code",
   "execution_count": null,
   "id": "657869b5-5a87-4eb7-9ab5-95c384b3035d",
   "metadata": {
    "scrolled": true
   },
   "outputs": [],
   "source": [
    "#plot probability below threshold\n",
    "\n",
    "pbt = probability_below_threshold(pcoords, weights, .33)\n",
    "print(np.mean(pbt))\n",
    "\n",
    "plt.plot(pbt)\n",
    "plt.yscale('log')\n",
    "plt.ylim(10**-12, 1)"
   ]
  },
  {
   "cell_type": "code",
   "execution_count": null,
   "id": "9fcc1272-ff14-4a70-b567-69823f44de00",
   "metadata": {
    "scrolled": true
   },
   "outputs": [],
   "source": [
    "#plot populations\n",
    "\n",
    "#parameters\n",
    "data = (pcoords_flat[0], iters_flat)\n",
    "weights = weights_flat\n",
    "limits = ((0, 1), (miniter, maxiter_value))\n",
    "labels = (\"maximum water wire gap (nm)\", \"westpa round\")\n",
    "bin_densities = [30,1] #if the data have units, the units of density are the reciprocal of the data units\n",
    "transpose = False\n",
    "plot_size = 6\n",
    "aspect_ratio = 0.03 #automatically raised to the -1st power upon transposition\n",
    "\n",
    "#argument line 1 = data\n",
    "#argument line 2 = histogram parameters and labels\n",
    "#argument line 3 = plot size and scale parameters\n",
    "xlims, ylims, populations = populations_by_round(\n",
    "    data, \n",
    "    weights,\n",
    "    limits, \n",
    "    labels, \n",
    "    bin_densities, \n",
    "    transpose, \n",
    "    plot_size, \n",
    "    aspect_ratio)\n"
   ]
  },
  {
   "cell_type": "code",
   "execution_count": null,
   "id": "d5ae933d-14a6-4943-b4eb-921a04bf5210",
   "metadata": {},
   "outputs": [],
   "source": [
    "free_energies_by_round(xlims, ylims, populations, plot_size, aspect_ratio, labels)"
   ]
  },
  {
   "cell_type": "markdown",
   "id": "72f4d1a0-9050-416c-bb67-341de0d0af09",
   "metadata": {},
   "source": [
    "## we37"
   ]
  },
  {
   "cell_type": "code",
   "execution_count": null,
   "id": "3757d630-2aef-49bd-8320-76797b0b8156",
   "metadata": {
    "scrolled": true
   },
   "outputs": [],
   "source": [
    "#load data\n",
    "\n",
    "abspath = \"/home/jonathan/grabelab/aac1-ucp1/ucp1/trajectories/we37\"\n",
    "date_time = '-080924-1402'\n",
    "\n",
    "miniter=0\n",
    "maxiter=-1\n",
    "include_last_round=False\n",
    "\n",
    "pcoords_flat, iters_flat, weights_flat, maxiter_value, pcoords, weights = load_h5_pc_data(abspath, date_time, miniter, maxiter, include_last_round)\n"
   ]
  },
  {
   "cell_type": "code",
   "execution_count": null,
   "id": "0a405e98-130c-4b47-9a00-e606a98b0ca8",
   "metadata": {
    "scrolled": true
   },
   "outputs": [],
   "source": [
    "if False:\n",
    "    plt.plot([max(i) for i in weights])\n",
    "    plt.show()\n",
    "    plt.plot([min(i) for i in weights])\n",
    "    plt.yscale(\"log\")\n",
    "    plt.show()\n",
    "    plt.plot([np.median(i) for i in weights])\n",
    "    plt.yscale(\"log\")\n",
    "    plt.show()"
   ]
  },
  {
   "cell_type": "code",
   "execution_count": null,
   "id": "149465a7-5699-473b-b474-e201346e66f6",
   "metadata": {
    "scrolled": true
   },
   "outputs": [],
   "source": [
    "#plot probability below threshold\n",
    "\n",
    "pbt = probability_below_threshold(pcoords, weights, .33)\n",
    "print(np.mean(pbt))\n",
    "\n",
    "plt.plot(pbt)\n",
    "plt.yscale('log')\n",
    "plt.ylim(10**-12, 1)\n",
    "plt.xlabel(\"WE round\")\n",
    "plt.ylabel(\"water wire formation probability\")\n",
    "plt.savefig(\"we37-UCP1-DNP-water-wire-formation-probability-WE\")"
   ]
  },
  {
   "cell_type": "code",
   "execution_count": null,
   "id": "268eb112-9605-442a-be33-48e73589d299",
   "metadata": {
    "scrolled": true
   },
   "outputs": [],
   "source": [
    "#plot populations\n",
    "\n",
    "#parameters\n",
    "data = (pcoords_flat[0], iters_flat)\n",
    "weights = weights_flat\n",
    "limits = ((0, 1), (miniter, maxiter_value))\n",
    "labels = (\"maximum water wire gap (nm)\", \"westpa round\")\n",
    "bin_densities = [30,1] #if the data have units, the units of density are the reciprocal of the data units\n",
    "transpose = False\n",
    "plot_size = 6\n",
    "aspect_ratio = 0.03 #automatically raised to the -1st power upon transposition\n",
    "\n",
    "#argument line 1 = data\n",
    "#argument line 2 = histogram parameters and labels\n",
    "#argument line 3 = plot size and scale parameters\n",
    "xlims, ylims, populations = populations_by_round(\n",
    "    data, \n",
    "    weights,\n",
    "    limits, \n",
    "    labels, \n",
    "    bin_densities, \n",
    "    transpose, \n",
    "    plot_size, \n",
    "    aspect_ratio)\n"
   ]
  },
  {
   "cell_type": "code",
   "execution_count": null,
   "id": "f5188af1-5114-4097-aebd-1c30eaf970bd",
   "metadata": {
    "scrolled": true
   },
   "outputs": [],
   "source": [
    "free_energies_by_round(xlims, ylims, populations, plot_size, aspect_ratio, labels)"
   ]
  },
  {
   "cell_type": "markdown",
   "id": "ba449867",
   "metadata": {},
   "source": [
    "## We28-series "
   ]
  },
  {
   "cell_type": "markdown",
   "id": "41fd5a70",
   "metadata": {},
   "source": [
    "### we28d9"
   ]
  },
  {
   "cell_type": "code",
   "execution_count": null,
   "id": "7c13c7fa",
   "metadata": {
    "scrolled": true
   },
   "outputs": [],
   "source": [
    "#load data\n",
    "\n",
    "abspath = \"/home/jonathan/grabelab/aac1-ucp1/ucp1/trajectories/we28d9\"\n",
    "#\"/Users/jonathanborowsky/Documents/grabelab/aac1-ucp1/ucp1/trajectories/bound-dnp/we28d9\"\n",
    "date_time = '-072924-1411'\n",
    "\n",
    "miniter=0\n",
    "maxiter=-1\n",
    "include_last_round=False\n",
    "\n",
    "pcoords_flat, iters_flat, weights_flat, maxiter_value, pcoords, weights = load_h5_pc_data(abspath, date_time, miniter, maxiter, include_last_round)\n"
   ]
  },
  {
   "cell_type": "code",
   "execution_count": null,
   "id": "8d712b4f",
   "metadata": {
    "scrolled": true
   },
   "outputs": [],
   "source": [
    "plt.plot([max(i) for i in weights])\n",
    "plt.show()\n",
    "plt.plot([min(i) for i in weights])\n",
    "plt.yscale(\"log\")\n",
    "plt.show()\n",
    "plt.plot([np.median(i) for i in weights])\n",
    "plt.yscale(\"log\")\n",
    "plt.show()"
   ]
  },
  {
   "cell_type": "code",
   "execution_count": null,
   "id": "02ccd7c0",
   "metadata": {
    "scrolled": true
   },
   "outputs": [],
   "source": [
    "#plot probability below threshold\n",
    "\n",
    "pbs = probability_below_threshold(pcoords, weights, .33)\n",
    "plt.plot(pbs)\n",
    "plt.yscale('log')"
   ]
  },
  {
   "cell_type": "code",
   "execution_count": null,
   "id": "309992e9",
   "metadata": {
    "scrolled": true
   },
   "outputs": [],
   "source": [
    "#plot populations\n",
    "\n",
    "#parameters\n",
    "data = (pcoords_flat[0], iters_flat)\n",
    "weights = weights_flat\n",
    "limits = ((0, 1), (miniter, maxiter_value))\n",
    "labels = (\"maximum water wire gap (nm)\", \"westpa round\")\n",
    "bin_densities = [30,1] #if the data have units, the units of density are the reciprocal of the data units\n",
    "transpose = False\n",
    "plot_size = 6\n",
    "aspect_ratio = 0.03 #automatically raised to the -1st power upon transposition\n",
    "\n",
    "#argument line 1 = data\n",
    "#argument line 2 = histogram parameters and labels\n",
    "#argument line 3 = plot size and scale parameters\n",
    "xlims, ylims, populations = populations_by_round(\n",
    "    data, \n",
    "    weights,\n",
    "    limits, \n",
    "    labels, \n",
    "    bin_densities, \n",
    "    transpose, \n",
    "    plot_size, \n",
    "    aspect_ratio)\n"
   ]
  },
  {
   "cell_type": "code",
   "execution_count": null,
   "id": "1ae45c2c",
   "metadata": {
    "scrolled": true
   },
   "outputs": [],
   "source": [
    "free_energies_by_round(xlims, ylims, populations, plot_size, aspect_ratio, labels)"
   ]
  },
  {
   "cell_type": "markdown",
   "id": "f746ea84",
   "metadata": {},
   "source": [
    "### we28d8"
   ]
  },
  {
   "cell_type": "code",
   "execution_count": null,
   "id": "8f99ff6c",
   "metadata": {
    "scrolled": true
   },
   "outputs": [],
   "source": [
    "#load data\n",
    "\n",
    "abspath = \"/Users/jonathanborowsky/Documents/grabelab/aac1-ucp1/ucp1/trajectories/bound-dnp/we28d8\"\n",
    "date_time = '-050824-1055'\n",
    "\n",
    "miniter=0\n",
    "maxiter=-1\n",
    "include_last_round=False\n",
    "\n",
    "pcoords_flat, iters_flat, weights_flat, maxiter_value, pcoords, weights = load_h5_pc_data(abspath, date_time, miniter, maxiter, include_last_round)\n"
   ]
  },
  {
   "cell_type": "code",
   "execution_count": null,
   "id": "0a80fdf2",
   "metadata": {
    "scrolled": true
   },
   "outputs": [],
   "source": [
    "#plot probability below threshold\n",
    "\n",
    "pbs = probability_below_threshold(pcoords, weights, .33)\n",
    "plt.plot(pbs)\n",
    "plt.yscale('log')"
   ]
  },
  {
   "cell_type": "code",
   "execution_count": null,
   "id": "d2d73a68",
   "metadata": {
    "scrolled": true
   },
   "outputs": [],
   "source": [
    "#plot populations\n",
    "\n",
    "#parameters\n",
    "data = (pcoords_flat[0], iters_flat)\n",
    "weights = weights_flat\n",
    "limits = ((0, 1), (miniter, maxiter_value))\n",
    "labels = (\"maximum water wire gap (nm)\", \"westpa round\")\n",
    "bin_densities = [133,1] #if the data have units, the units of density are the reciprocal of the data units\n",
    "transpose = False\n",
    "plot_size = 6\n",
    "aspect_ratio = 0.03 #automatically raised to the -1st power upon transposition\n",
    "\n",
    "#argument line 1 = data\n",
    "#argument line 2 = histogram parameters and labels\n",
    "#argument line 3 = plot size and scale parameters\n",
    "xlims, ylims, populations = populations_by_round(\n",
    "    data, \n",
    "    weights,\n",
    "    limits, \n",
    "    labels, \n",
    "    bin_densities, \n",
    "    transpose, \n",
    "    plot_size, \n",
    "    aspect_ratio)\n"
   ]
  },
  {
   "cell_type": "code",
   "execution_count": null,
   "id": "6e741fa3",
   "metadata": {
    "scrolled": true
   },
   "outputs": [],
   "source": [
    "free_energies_by_round(xlims, ylims, populations, plot_size, aspect_ratio, labels)"
   ]
  },
  {
   "cell_type": "markdown",
   "id": "a57b9585",
   "metadata": {},
   "source": [
    "### we28d7"
   ]
  },
  {
   "cell_type": "code",
   "execution_count": null,
   "id": "c676fd94",
   "metadata": {
    "scrolled": true
   },
   "outputs": [],
   "source": [
    "#load data\n",
    "\n",
    "abspath = \"/Users/jonathanborowsky/Documents/grabelab/aac1-ucp1/ucp1/trajectories/bound-dnp/we28d7\"\n",
    "date_time = '042624-1339' #'042524-2319'\n",
    "\n",
    "miniter=0\n",
    "maxiter=-1\n",
    "include_last_round=False\n",
    "\n",
    "pcoords_flat, iters_flat, weights_flat, maxiter_value = load_h5_pc_data(abspath, date_time, miniter, maxiter, include_last_round)\n"
   ]
  },
  {
   "cell_type": "code",
   "execution_count": null,
   "id": "b59e15f0",
   "metadata": {
    "scrolled": true
   },
   "outputs": [],
   "source": [
    "#plot populations\n",
    "\n",
    "#parameters\n",
    "data = (pcoords_flat[0], iters_flat)\n",
    "weights = weights_flat\n",
    "limits = ((0, 1), (miniter, maxiter_value))\n",
    "labels = (\"maximum water wire gap\", \"westpa round\")\n",
    "bin_densities = [30,1] #if the data have units, the units of density are the reciprocal of the data units\n",
    "transpose = False\n",
    "plot_size = 6\n",
    "aspect_ratio = 0.03 #automatically raised to the -1st power upon transposition\n",
    "\n",
    "#argument line 1 = data\n",
    "#argument line 2 = histogram parameters and labels\n",
    "#argument line 3 = plot size and scale parameters\n",
    "xlims, ylims, populations = populations_by_round(\n",
    "    data, \n",
    "    weights,\n",
    "    limits, \n",
    "    labels, \n",
    "    bin_densities, \n",
    "    transpose, \n",
    "    plot_size, \n",
    "    aspect_ratio)\n"
   ]
  },
  {
   "cell_type": "code",
   "execution_count": null,
   "id": "500e9fc6",
   "metadata": {
    "scrolled": true
   },
   "outputs": [],
   "source": [
    "free_energies_by_round(xlims, ylims, populations, plot_size, aspect_ratio)"
   ]
  },
  {
   "cell_type": "markdown",
   "id": "dba27a80",
   "metadata": {},
   "source": [
    "## We33"
   ]
  },
  {
   "cell_type": "code",
   "execution_count": null,
   "id": "ab151b8e",
   "metadata": {
    "scrolled": true
   },
   "outputs": [],
   "source": [
    "#load data\n",
    "\n",
    "# abspath = \"/Users/jonathanborowsky/Documents/grabelab/aac1-ucp1/aac1/trajectories/we35\"\n",
    "# date_time = '060824-2156'\n",
    "\n",
    "abspath = \"/Users/jonathanborowsky/Documents/grabelab/aac1-ucp1/aac1/trajectories/we18\"\n",
    "date_time = '111923-2221'\n",
    "\n",
    "miniter=0\n",
    "maxiter=-1\n",
    "include_last_round=False\n",
    "\n",
    "pcoords_flat, iters_flat, weights_flat, maxiter_value, pcoords, weights = load_h5_pc_data(abspath, date_time, miniter, maxiter, include_last_round)\n"
   ]
  },
  {
   "cell_type": "code",
   "execution_count": null,
   "id": "c4bd76a0",
   "metadata": {
    "scrolled": true
   },
   "outputs": [],
   "source": [
    "#plot populations\n",
    "\n",
    "#parameters\n",
    "data = (pcoords_flat[0], iters_flat)\n",
    "weights = weights_flat\n",
    "limits = ((0, 1), (miniter, maxiter_value))\n",
    "labels = (\"maximum water wire gap\", \"westpa round\")\n",
    "bin_densities = [30,1] #if the data have units, the units of density are the reciprocal of the data units\n",
    "transpose = False\n",
    "plot_size = 6\n",
    "aspect_ratio = 0.03 #automatically raised to the -1st power upon transposition\n",
    "\n",
    "#argument line 1 = data\n",
    "#argument line 2 = histogram parameters and labels\n",
    "#argument line 3 = plot size and scale parameters\n",
    "xlims, ylims, populations = populations_by_round(\n",
    "    data, \n",
    "    weights,\n",
    "    limits, \n",
    "    labels, \n",
    "    bin_densities, \n",
    "    transpose, \n",
    "    plot_size, \n",
    "    aspect_ratio)\n"
   ]
  },
  {
   "cell_type": "code",
   "execution_count": null,
   "id": "17169c2d",
   "metadata": {
    "scrolled": true
   },
   "outputs": [],
   "source": [
    "free_energies_by_round(xlims, ylims, populations, plot_size, aspect_ratio, labels)"
   ]
  },
  {
   "cell_type": "code",
   "execution_count": null,
   "id": "4fefd6df",
   "metadata": {
    "scrolled": true
   },
   "outputs": [],
   "source": []
  },
  {
   "cell_type": "markdown",
   "id": "736bdc3b",
   "metadata": {},
   "source": [
    "# we21"
   ]
  },
  {
   "cell_type": "code",
   "execution_count": null,
   "id": "f261d695",
   "metadata": {
    "scrolled": true
   },
   "outputs": [],
   "source": [
    "#load data\n",
    "\n",
    "abspath = \"/Users/jonathanborowsky/Documents/grabelab/aac1-ucp1/ucp1/trajectories/bound-dnp/we21\"\n",
    "date_time = '060824-2043'\n",
    "\n",
    "miniter=0\n",
    "maxiter=-1\n",
    "include_last_round=False\n",
    "\n",
    "pcoords_flat, iters_flat, weights_flat, maxiter_value, pcoords, weights = load_h5_pc_data(abspath, date_time, miniter, maxiter, include_last_round)\n"
   ]
  },
  {
   "cell_type": "code",
   "execution_count": null,
   "id": "c41e6983",
   "metadata": {
    "scrolled": true
   },
   "outputs": [],
   "source": [
    "#plot probability below threshold\n",
    "\n",
    "pbs = probability_below_threshold(pcoords, weights, .33)\n",
    "plt.plot(pbs)\n",
    "plt.yscale('log')"
   ]
  },
  {
   "cell_type": "code",
   "execution_count": null,
   "id": "8f6162f7",
   "metadata": {
    "scrolled": true
   },
   "outputs": [],
   "source": [
    "#plot populations\n",
    "\n",
    "#parameters\n",
    "data = (pcoords_flat[0], iters_flat)\n",
    "weights = weights_flat\n",
    "limits = ((-1, 1), (miniter, maxiter_value))\n",
    "labels = (\"DNP z distance from protein center of mass (nm)\", \"westpa round\")\n",
    "bin_densities = [100,1] #if the data have units, the units of density are the reciprocal of the data units\n",
    "transpose = False\n",
    "plot_size = 6\n",
    "aspect_ratio = 0.03 #automatically raised to the -1st power upon transposition\n",
    "\n",
    "#argument line 1 = data\n",
    "#argument line 2 = histogram parameters and labels\n",
    "#argument line 3 = plot size and scale parameters\n",
    "xlims, ylims, populations = populations_by_round(\n",
    "    data, \n",
    "    weights,\n",
    "    limits, \n",
    "    labels, \n",
    "    bin_densities, \n",
    "    transpose, \n",
    "    plot_size, \n",
    "    aspect_ratio)\n"
   ]
  },
  {
   "cell_type": "code",
   "execution_count": null,
   "id": "27ef4884",
   "metadata": {
    "scrolled": true
   },
   "outputs": [],
   "source": [
    "free_energies_by_round(xlims, ylims, populations, plot_size, aspect_ratio, labels)"
   ]
  },
  {
   "cell_type": "code",
   "execution_count": null,
   "id": "c70c04a6",
   "metadata": {
    "scrolled": true
   },
   "outputs": [],
   "source": [
    "pcoords_flat"
   ]
  },
  {
   "cell_type": "code",
   "execution_count": null,
   "id": "b65ad174",
   "metadata": {
    "scrolled": true
   },
   "outputs": [],
   "source": []
  }
 ],
 "metadata": {
  "kernelspec": {
   "display_name": "Python 3 (ipykernel)",
   "language": "python",
   "name": "python3"
  },
  "language_info": {
   "codemirror_mode": {
    "name": "ipython",
    "version": 3
   },
   "file_extension": ".py",
   "mimetype": "text/x-python",
   "name": "python",
   "nbconvert_exporter": "python",
   "pygments_lexer": "ipython3",
   "version": "3.11.10"
  }
 },
 "nbformat": 4,
 "nbformat_minor": 5
}
