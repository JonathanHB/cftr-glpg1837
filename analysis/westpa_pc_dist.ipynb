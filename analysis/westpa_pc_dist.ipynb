{
 "cells": [
  {
   "cell_type": "code",
   "execution_count": null,
   "id": "a3507edd-9497-43bb-af5a-16af199842fa",
   "metadata": {},
   "outputs": [],
   "source": [
    "import numpy as np\n",
    "import h5py\n",
    "import matplotlib.pyplot as plt\n",
    "import matplotlib as mpl\n",
    "import westpa\n",
    "from westpa.analysis import Run"
   ]
  },
  {
   "cell_type": "code",
   "execution_count": null,
   "id": "a3a83b0b-3e69-402b-b700-875f9ab6582a",
   "metadata": {},
   "outputs": [],
   "source": [
    "#this barely needs to be a method but having the .h5 stuff compartmentalized is nice\n",
    "def load_h5_pcs(h5path, miniter, maxiter):\n",
    "    \n",
    "    run = Run.open(h5path)\n",
    "\n",
    "    #set maximum iteration automatically\n",
    "    if maxiter == -1:\n",
    "        maxiter = run.num_iterations\n",
    "\n",
    "    pcs = [iteration.pcoords for iteration in run if (iteration.number >= miniter and iteration.number < maxiter)]\n",
    "    weights = [iteration.pcoords for iteration in run if (iteration.number >= miniter and iteration.number < maxiter)]\n",
    "\n",
    "    return pcs"
   ]
  },
  {
   "cell_type": "code",
   "execution_count": null,
   "id": "1610c81c-e3ce-4953-b943-1f26ae22394b",
   "metadata": {},
   "outputs": [],
   "source": []
  }
 ],
 "metadata": {
  "kernelspec": {
   "display_name": "Python 3 (ipykernel)",
   "language": "python",
   "name": "python3"
  },
  "language_info": {
   "codemirror_mode": {
    "name": "ipython",
    "version": 3
   },
   "file_extension": ".py",
   "mimetype": "text/x-python",
   "name": "python",
   "nbconvert_exporter": "python",
   "pygments_lexer": "ipython3",
   "version": "3.11.10"
  }
 },
 "nbformat": 4,
 "nbformat_minor": 5
}
