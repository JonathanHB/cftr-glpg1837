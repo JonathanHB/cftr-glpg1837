{
 "cells": [
  {
   "cell_type": "code",
   "execution_count": 3,
   "id": "d7a6483a-13eb-4401-b147-71ffe6754c11",
   "metadata": {},
   "outputs": [],
   "source": [
    "import numpy as np\n",
    "import json\n",
    "import matplotlib.pyplot as plt"
   ]
  },
  {
   "cell_type": "code",
   "execution_count": 5,
   "id": "926bee33-966a-424f-920e-748462745bec",
   "metadata": {},
   "outputs": [],
   "source": [
    "# Open and read the JSON file\n",
    "with open('/home/jonathan/Documents/grabelab/cftr/ligand-simulations/nonlipidated/LJP-nodisp-water.json', 'r') as file:\n",
    "    data = json.load(file)"
   ]
  },
  {
   "cell_type": "code",
   "execution_count": 10,
   "id": "b944a4e9-0c5c-491b-87ba-bdf748761227",
   "metadata": {},
   "outputs": [
    {
     "data": {
      "text/plain": [
       "str"
      ]
     },
     "execution_count": 10,
     "metadata": {},
     "output_type": "execute_result"
    }
   ],
   "source": [
    "type(data['object_logfile'])"
   ]
  },
  {
   "cell_type": "code",
   "execution_count": null,
   "id": "8e9d9518-0614-4f3e-a328-11b0e0d2883d",
   "metadata": {},
   "outputs": [],
   "source": []
  }
 ],
 "metadata": {
  "kernelspec": {
   "display_name": "Python 3 (ipykernel)",
   "language": "python",
   "name": "python3"
  },
  "language_info": {
   "codemirror_mode": {
    "name": "ipython",
    "version": 3
   },
   "file_extension": ".py",
   "mimetype": "text/x-python",
   "name": "python",
   "nbconvert_exporter": "python",
   "pygments_lexer": "ipython3",
   "version": "3.11.10"
  }
 },
 "nbformat": 4,
 "nbformat_minor": 5
}
